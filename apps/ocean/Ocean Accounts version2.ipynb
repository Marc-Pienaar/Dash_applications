{
 "cells": [
  {
   "cell_type": "code",
   "execution_count": null,
   "metadata": {},
   "outputs": [],
   "source": [
    "import numpy as np\n",
    "import math\n",
    "import pandas as pd\n",
    "import glob\n",
    "import os\n",
    "from seabird.cnv import fCNV"
   ]
  },
  {
   "cell_type": "code",
   "execution_count": 2,
   "metadata": {},
   "outputs": [
    {
     "name": "stdout",
     "output_type": "stream",
     "text": [
      "C:\\Data\\Ocean\\Problem files\\Old _format\\SAEON_ABSS_CTP_20180220_PELTERP1_FV00_CTDPRO.cnv\n",
      "C:\\Data\\Ocean\\Problem files\\Old _format\\SAEON_ABSS_CTP_20180220_PELTERP4_FV00_CTDPRO.cnv\n",
      "C:\\Data\\Ocean\\Problem files\\Old _format\\SAEON_ABSS_CTP_20181025_PELTERP7_FV00_CTDPRO.cnv\n",
      "      Conductivity  Temperature   Depth  Salinity   Oxygen     pH  \\\n",
      "0          48360.0      20.2958   0.029   35.1147  11.6217  9.022   \n",
      "1          54252.0      20.4554   0.150   39.8187   5.9309  8.700   \n",
      "2          48353.0      20.2943   0.163   35.1101  11.6294  9.020   \n",
      "3          48353.0      20.2929   0.264   35.1119  11.6281  9.022   \n",
      "4          48427.0      20.4276   0.273   35.0597   6.1180  8.800   \n",
      "...            ...          ...     ...       ...      ...    ...   \n",
      "3273       40200.0      12.1854  60.382   35.0322   4.2388  8.585   \n",
      "3274       40200.0      12.1849  60.421   35.0341   4.4797  8.581   \n",
      "3275       40200.0      12.1853  60.435   35.0319   4.2185  8.582   \n",
      "3276       40200.0      12.1848  60.457   35.0330   4.3122  8.580   \n",
      "3277       40200.0      12.1850  60.464   35.0321   4.2528  8.581   \n",
      "\n",
      "      Chlorophyll  Turbidity Bottles      Julian Scan Pressure   DataFlag  \\\n",
      "0         11.5549   100.6867       0   51.665987  830    0.029  0.000e+00   \n",
      "1          6.8658   254.5983       0   51.663663   27    0.151  0.000e+00   \n",
      "2         11.2581    24.4495       0   51.665984  829    0.164  0.000e+00   \n",
      "3         11.2047     2.0417       0   51.665981  828    0.265  0.000e+00   \n",
      "4          7.4693   291.1467       0   51.663666   28    0.275  0.000e+00   \n",
      "...           ...        ...     ...         ...  ...      ...        ...   \n",
      "3273       0.3677     1.7533       0  298.375284  NaN      NaN        NaN   \n",
      "3274       0.3670     1.7395       0  298.375295  NaN      NaN        NaN   \n",
      "3275       0.3655     1.7533       0  298.375286  NaN      NaN        NaN   \n",
      "3276       0.3510     1.6800       0  298.375292  NaN      NaN        NaN   \n",
      "3277       0.3426     1.7121       0  298.375289  NaN      NaN        NaN   \n",
      "\n",
      "          date   Station depth_class    DecDegS    DecDegE  \n",
      "0     20180220  PELTERP1         0-2 -33.896167  25.702278  \n",
      "1     20180220  PELTERP1         0-2 -33.896167  25.702278  \n",
      "2     20180220  PELTERP1         0-2 -33.896167  25.702278  \n",
      "3     20180220  PELTERP1         0-2 -33.896167  25.702278  \n",
      "4     20180220  PELTERP1         0-2 -33.896167  25.702278  \n",
      "...        ...       ...         ...        ...        ...  \n",
      "3273  20181025  PELTERP7       60-70 -33.881770  25.987220  \n",
      "3274  20181025  PELTERP7       60-70 -33.881770  25.987220  \n",
      "3275  20181025  PELTERP7       60-70 -33.881770  25.987220  \n",
      "3276  20181025  PELTERP7       60-70 -33.881770  25.987220  \n",
      "3277  20181025  PELTERP7       60-70 -33.881770  25.987220  \n",
      "\n",
      "[3278 rows x 18 columns]\n"
     ]
    }
   ],
   "source": [
    "locations = pd.read_csv(r'C:\\Data\\Ocean\\locations.csv')\n",
    "format1_list = []\n",
    "for root, dirs, files in os.walk(r\"C:\\Data\\Ocean\\Problem files\\Old _format\"):\n",
    "    for file in files:\n",
    "        if file.endswith(\".cnv\"):\n",
    "            print(os.path.join(root, file))\n",
    "            path = os.path.join(root, file)\n",
    "            date = file.split('_')[3]\n",
    "            instrument = file.split('_')[4]\n",
    "            f=open(path,\"r\")\n",
    "            lines=f.readlines()\n",
    "            data_list = []\n",
    "            index = [0,1,2,3,4,5,6,7,8,9,10,11,12] #index the variables that you want to read into the data frame\n",
    "            for i in index:\n",
    "                list = []\n",
    "                for x in lines:\n",
    "                    list.append(x.split('\\t')[i])\n",
    "                df = pd.DataFrame(list[1:], columns = [list[0]])\n",
    "                data_list.append(df)\n",
    "                f.close()\n",
    "            data = pd.concat(data_list, axis = 1)\n",
    "            data['date'] = date\n",
    "            data['instrument'] = instrument\n",
    "            data.Depth = pd.to_numeric(data['Depth'])\n",
    "            data.Conductivity = pd.to_numeric(data['Conductivity'])\n",
    "            data.Temperature = pd.to_numeric(data['Temperature'])\n",
    "            data.Salinity = pd.to_numeric(data['Salinity'])\n",
    "            data.Oxygen = pd.to_numeric(data['Oxygen'])\n",
    "            data.pH = pd.to_numeric(data['pH'])\n",
    "            data.Chlorophyll = pd.to_numeric(data['Chlorophyll'])\n",
    "            data.Turbidity = pd.to_numeric(data['Turbidity'])\n",
    "            data = data[data.Depth >= 0]\n",
    "            #group data into defined bins\n",
    "            cut_labels = ['0-2', '2-10', '10-20', '20-30','30-40','40-50','50-60','60-70', '70-80']\n",
    "            cut_bins = [0, 2, 10, 20, 30, 40, 50, 60, 70, 80]\n",
    "            depth_class = pd.cut(data['Depth'], bins=cut_bins, labels=cut_labels).rename('depth_class')\n",
    "            df=pd.concat([data,depth_class], axis=1).sort_values('Depth', ascending=True)\n",
    "            format1_list.append(df)\n",
    "format1_data = pd.concat(format1_list)\n",
    "df = format1_data.drop(columns = ['Station', 'DecDegS', 'DecDegE'], axis = 1)\n",
    "df = df.rename(columns = {'instrument':'Station'})\n",
    "format1_df=pd.merge(df,locations[['Station','DecDegS','DecDegE']], on = 'Station')\n",
    "print(format1_df)"
   ]
  },
  {
   "cell_type": "code",
   "execution_count": 3,
   "metadata": {},
   "outputs": [
    {
     "name": "stderr",
     "output_type": "stream",
     "text": [
      "It was supposed to has 13 variables.\n"
     ]
    },
    {
     "name": "stdout",
     "output_type": "stream",
     "text": [
      "C:\\Data\\Ocean\\OceanAccounts AlgoaBay Data\\2018_PELTER_CTD\\Run 1\\2018-02_PELTER_CTD\\RawData\\SAEON_ABSS_CTP_20180220_PELTERP2_FV00_CTDPRO.cnv\n",
      "C:\\Data\\Ocean\\OceanAccounts AlgoaBay Data\\2018_PELTER_CTD\\Run 1\\2018-02_PELTER_CTD\\RawData\\SAEON_ABSS_CTP_20180220_PELTERP3_FV00_CTDPRO.cnv\n"
     ]
    },
    {
     "name": "stderr",
     "output_type": "stream",
     "text": [
      "It was supposed to has 13 variables.\n",
      "It was supposed to has 13 variables.\n"
     ]
    },
    {
     "name": "stdout",
     "output_type": "stream",
     "text": [
      "C:\\Data\\Ocean\\OceanAccounts AlgoaBay Data\\2018_PELTER_CTD\\Run 1\\2018-02_PELTER_CTD\\RawData\\SAEON_ABSS_CTP_20180220_PELTERP5_FV00_CTDPRO.cnv\n",
      "C:\\Data\\Ocean\\OceanAccounts AlgoaBay Data\\2018_PELTER_CTD\\Run 1\\2018-02_PELTER_CTD\\RawData\\SAEON_ABSS_CTP_20180220_PELTERP6_FV00_CTDPRO.cnv\n"
     ]
    },
    {
     "name": "stderr",
     "output_type": "stream",
     "text": [
      "It was supposed to has 13 variables.\n"
     ]
    },
    {
     "name": "stdout",
     "output_type": "stream",
     "text": [
      "C:\\Data\\Ocean\\OceanAccounts AlgoaBay Data\\2018_PELTER_CTD\\Run 1\\2018-02_PELTER_CTD\\RawData\\SAEON_ABSS_CTP_20180220_PELTERP7_FV00_CTDPRO.cnv\n"
     ]
    },
    {
     "name": "stderr",
     "output_type": "stream",
     "text": [
      "It was supposed to has 13 variables.\n",
      "It was supposed to has 13 variables.\n"
     ]
    },
    {
     "name": "stdout",
     "output_type": "stream",
     "text": [
      "C:\\Data\\Ocean\\OceanAccounts AlgoaBay Data\\2018_PELTER_CTD\\Run 1\\2018-02_PELTER_CTD\\RawData\\SAEON_ABSS_CTP_20180220_PELTERP8_FV00_CTDPRO.cnv\n",
      "C:\\Data\\Ocean\\OceanAccounts AlgoaBay Data\\2018_PELTER_CTD\\Run 1\\2018-03_PELTER_CTD\\RawData\\SAEON_ABSS_CTP_20180326_PELTERP1_FV00_CTDPRO.cnv\n"
     ]
    },
    {
     "name": "stderr",
     "output_type": "stream",
     "text": [
      "It was supposed to has 13 variables.\n",
      "It was supposed to has 13 variables.\n"
     ]
    },
    {
     "name": "stdout",
     "output_type": "stream",
     "text": [
      "C:\\Data\\Ocean\\OceanAccounts AlgoaBay Data\\2018_PELTER_CTD\\Run 1\\2018-03_PELTER_CTD\\RawData\\SAEON_ABSS_CTP_20180326_PELTERP2_FV00_CTDPRO.cnv\n",
      "C:\\Data\\Ocean\\OceanAccounts AlgoaBay Data\\2018_PELTER_CTD\\Run 1\\2018-03_PELTER_CTD\\RawData\\SAEON_ABSS_CTP_20180326_PELTERP3_FV00_CTDPRO.cnv\n"
     ]
    },
    {
     "name": "stderr",
     "output_type": "stream",
     "text": [
      "It was supposed to has 13 variables.\n",
      "It was supposed to has 13 variables.\n"
     ]
    },
    {
     "name": "stdout",
     "output_type": "stream",
     "text": [
      "C:\\Data\\Ocean\\OceanAccounts AlgoaBay Data\\2018_PELTER_CTD\\Run 1\\2018-03_PELTER_CTD\\RawData\\SAEON_ABSS_CTP_20180326_PELTERP4_FV00_CTDPRO.cnv\n",
      "C:\\Data\\Ocean\\OceanAccounts AlgoaBay Data\\2018_PELTER_CTD\\Run 1\\2018-03_PELTER_CTD\\RawData\\SAEON_ABSS_CTP_20180326_PELTERP5_FV00_CTDPRO.cnv\n"
     ]
    },
    {
     "name": "stderr",
     "output_type": "stream",
     "text": [
      "It was supposed to has 13 variables.\n",
      "It was supposed to has 13 variables.\n"
     ]
    },
    {
     "name": "stdout",
     "output_type": "stream",
     "text": [
      "C:\\Data\\Ocean\\OceanAccounts AlgoaBay Data\\2018_PELTER_CTD\\Run 1\\2018-03_PELTER_CTD\\RawData\\SAEON_ABSS_CTP_20180326_PELTERP6_FV00_CTDPRO.cnv\n",
      "C:\\Data\\Ocean\\OceanAccounts AlgoaBay Data\\2018_PELTER_CTD\\Run 1\\2018-03_PELTER_CTD\\RawData\\SAEON_ABSS_CTP_20180326_PELTERP7_FV00_CTDPRO.cnv\n"
     ]
    },
    {
     "name": "stderr",
     "output_type": "stream",
     "text": [
      "It was supposed to has 13 variables.\n",
      "It was supposed to has 13 variables.\n"
     ]
    },
    {
     "name": "stdout",
     "output_type": "stream",
     "text": [
      "C:\\Data\\Ocean\\OceanAccounts AlgoaBay Data\\2018_PELTER_CTD\\Run 1\\2018-03_PELTER_CTD\\RawData\\SAEON_ABSS_CTP_20180326_PELTERP8_FV00_CTDPRO.cnv\n",
      "C:\\Data\\Ocean\\OceanAccounts AlgoaBay Data\\2018_PELTER_CTD\\Run 1\\2018-04_PELTER_CTD\\RawData\\SAEON_ABSS_CTP_20180417_PELTERP1_FV00_CTDPRO.cnv\n"
     ]
    },
    {
     "name": "stderr",
     "output_type": "stream",
     "text": [
      "It was supposed to has 13 variables.\n",
      "It was supposed to has 13 variables.\n"
     ]
    },
    {
     "name": "stdout",
     "output_type": "stream",
     "text": [
      "C:\\Data\\Ocean\\OceanAccounts AlgoaBay Data\\2018_PELTER_CTD\\Run 1\\2018-04_PELTER_CTD\\RawData\\SAEON_ABSS_CTP_20180417_PELTERP2_FV00_CTDPRO.cnv\n",
      "C:\\Data\\Ocean\\OceanAccounts AlgoaBay Data\\2018_PELTER_CTD\\Run 1\\2018-04_PELTER_CTD\\RawData\\SAEON_ABSS_CTP_20180417_PELTERP3_FV00_CTDPRO.cnv\n"
     ]
    },
    {
     "name": "stderr",
     "output_type": "stream",
     "text": [
      "It was supposed to has 13 variables.\n",
      "It was supposed to has 13 variables.\n"
     ]
    },
    {
     "name": "stdout",
     "output_type": "stream",
     "text": [
      "C:\\Data\\Ocean\\OceanAccounts AlgoaBay Data\\2018_PELTER_CTD\\Run 1\\2018-04_PELTER_CTD\\RawData\\SAEON_ABSS_CTP_20180417_PELTERP4_FV00_CTDPRO.cnv\n",
      "C:\\Data\\Ocean\\OceanAccounts AlgoaBay Data\\2018_PELTER_CTD\\Run 1\\2018-04_PELTER_CTD\\RawData\\SAEON_ABSS_CTP_20180417_PELTERP5_FV00_CTDPRO.cnv\n"
     ]
    },
    {
     "name": "stderr",
     "output_type": "stream",
     "text": [
      "It was supposed to has 13 variables.\n",
      "It was supposed to has 13 variables.\n"
     ]
    },
    {
     "name": "stdout",
     "output_type": "stream",
     "text": [
      "C:\\Data\\Ocean\\OceanAccounts AlgoaBay Data\\2018_PELTER_CTD\\Run 1\\2018-04_PELTER_CTD\\RawData\\SAEON_ABSS_CTP_20180417_PELTERP6_FV00_CTDPRO.cnv\n",
      "C:\\Data\\Ocean\\OceanAccounts AlgoaBay Data\\2018_PELTER_CTD\\Run 1\\2018-04_PELTER_CTD\\RawData\\SAEON_ABSS_CTP_20180417_PELTERP7_FV00_CTDPRO.cnv\n"
     ]
    },
    {
     "name": "stderr",
     "output_type": "stream",
     "text": [
      "It was supposed to has 13 variables.\n",
      "It was supposed to has 13 variables.\n"
     ]
    },
    {
     "name": "stdout",
     "output_type": "stream",
     "text": [
      "C:\\Data\\Ocean\\OceanAccounts AlgoaBay Data\\2018_PELTER_CTD\\Run 1\\2018-04_PELTER_CTD\\RawData\\SAEON_ABSS_CTP_20180417_PELTERP8_FV00_CTDPRO.cnv\n",
      "C:\\Data\\Ocean\\OceanAccounts AlgoaBay Data\\2018_PELTER_CTD\\Run 1\\2018-05_PELTER_CTD\\RawData\\SAEON_ABSS_CTP_20180524_PELTERP1_FV00_CTDPRO.cnv\n"
     ]
    },
    {
     "name": "stderr",
     "output_type": "stream",
     "text": [
      "It was supposed to has 13 variables.\n",
      "It was supposed to has 13 variables.\n"
     ]
    },
    {
     "name": "stdout",
     "output_type": "stream",
     "text": [
      "C:\\Data\\Ocean\\OceanAccounts AlgoaBay Data\\2018_PELTER_CTD\\Run 1\\2018-05_PELTER_CTD\\RawData\\SAEON_ABSS_CTP_20180524_PELTERP2_FV00_CTDPRO.cnv\n",
      "C:\\Data\\Ocean\\OceanAccounts AlgoaBay Data\\2018_PELTER_CTD\\Run 1\\2018-05_PELTER_CTD\\RawData\\SAEON_ABSS_CTP_20180524_PELTERP3_FV00_CTDPRO.cnv\n"
     ]
    },
    {
     "name": "stderr",
     "output_type": "stream",
     "text": [
      "It was supposed to has 13 variables.\n",
      "It was supposed to has 13 variables.\n"
     ]
    },
    {
     "name": "stdout",
     "output_type": "stream",
     "text": [
      "C:\\Data\\Ocean\\OceanAccounts AlgoaBay Data\\2018_PELTER_CTD\\Run 1\\2018-05_PELTER_CTD\\RawData\\SAEON_ABSS_CTP_20180524_PELTERP4_FV00_CTDPRO.cnv\n",
      "C:\\Data\\Ocean\\OceanAccounts AlgoaBay Data\\2018_PELTER_CTD\\Run 1\\2018-05_PELTER_CTD\\RawData\\SAEON_ABSS_CTP_20180524_PELTERP5_FV00_CTDPRO.cnv\n"
     ]
    },
    {
     "name": "stderr",
     "output_type": "stream",
     "text": [
      "It was supposed to has 13 variables.\n",
      "It was supposed to has 13 variables.\n"
     ]
    },
    {
     "name": "stdout",
     "output_type": "stream",
     "text": [
      "C:\\Data\\Ocean\\OceanAccounts AlgoaBay Data\\2018_PELTER_CTD\\Run 1\\2018-05_PELTER_CTD\\RawData\\SAEON_ABSS_CTP_20180524_PELTERP6_FV00_CTDPRO.cnv\n",
      "C:\\Data\\Ocean\\OceanAccounts AlgoaBay Data\\2018_PELTER_CTD\\Run 1\\2018-05_PELTER_CTD\\RawData\\SAEON_ABSS_CTP_20180524_PELTERP7_FV00_CTDPRO.cnv\n"
     ]
    },
    {
     "name": "stderr",
     "output_type": "stream",
     "text": [
      "It was supposed to has 13 variables.\n",
      "It was supposed to has 13 variables.\n"
     ]
    },
    {
     "name": "stdout",
     "output_type": "stream",
     "text": [
      "C:\\Data\\Ocean\\OceanAccounts AlgoaBay Data\\2018_PELTER_CTD\\Run 1\\2018-05_PELTER_CTD\\RawData\\SAEON_ABSS_CTP_20180524_PELTERP8_FV00_CTDPRO.cnv\n",
      "C:\\Data\\Ocean\\OceanAccounts AlgoaBay Data\\2018_PELTER_CTD\\Run 1\\2018-06_PELTER_CTD\\RawData\\SAEON_ABSS_CTP_20180621_PELTERP1_FV00_CTDPRO.cnv\n"
     ]
    },
    {
     "name": "stderr",
     "output_type": "stream",
     "text": [
      "It was supposed to has 13 variables.\n",
      "It was supposed to has 13 variables.\n"
     ]
    },
    {
     "name": "stdout",
     "output_type": "stream",
     "text": [
      "C:\\Data\\Ocean\\OceanAccounts AlgoaBay Data\\2018_PELTER_CTD\\Run 1\\2018-06_PELTER_CTD\\RawData\\SAEON_ABSS_CTP_20180621_PELTERP2_FV00_CTDPRO.cnv\n",
      "C:\\Data\\Ocean\\OceanAccounts AlgoaBay Data\\2018_PELTER_CTD\\Run 1\\2018-06_PELTER_CTD\\RawData\\SAEON_ABSS_CTP_20180621_PELTERP3_FV00_CTDPRO.cnv\n"
     ]
    },
    {
     "name": "stderr",
     "output_type": "stream",
     "text": [
      "It was supposed to has 13 variables.\n",
      "It was supposed to has 13 variables.\n"
     ]
    },
    {
     "name": "stdout",
     "output_type": "stream",
     "text": [
      "C:\\Data\\Ocean\\OceanAccounts AlgoaBay Data\\2018_PELTER_CTD\\Run 1\\2018-06_PELTER_CTD\\RawData\\SAEON_ABSS_CTP_20180621_PELTERP4_FV00_CTDPRO.cnv\n",
      "C:\\Data\\Ocean\\OceanAccounts AlgoaBay Data\\2018_PELTER_CTD\\Run 1\\2018-06_PELTER_CTD\\RawData\\SAEON_ABSS_CTP_20180621_PELTERP5_FV00_CTDPRO.cnv\n"
     ]
    },
    {
     "name": "stderr",
     "output_type": "stream",
     "text": [
      "It was supposed to has 13 variables.\n",
      "It was supposed to has 13 variables.\n"
     ]
    },
    {
     "name": "stdout",
     "output_type": "stream",
     "text": [
      "C:\\Data\\Ocean\\OceanAccounts AlgoaBay Data\\2018_PELTER_CTD\\Run 1\\2018-06_PELTER_CTD\\RawData\\SAEON_ABSS_CTP_20180621_PELTERP6_FV00_CTDPRO.cnv\n",
      "C:\\Data\\Ocean\\OceanAccounts AlgoaBay Data\\2018_PELTER_CTD\\Run 1\\2018-06_PELTER_CTD\\RawData\\SAEON_ABSS_CTP_20180621_PELTERP7_FV00_CTDPRO.cnv\n"
     ]
    },
    {
     "name": "stderr",
     "output_type": "stream",
     "text": [
      "It was supposed to has 13 variables.\n",
      "It was supposed to has 13 variables.\n"
     ]
    },
    {
     "name": "stdout",
     "output_type": "stream",
     "text": [
      "C:\\Data\\Ocean\\OceanAccounts AlgoaBay Data\\2018_PELTER_CTD\\Run 1\\2018-06_PELTER_CTD\\RawData\\SAEON_ABSS_CTP_20180621_PELTERP8_FV00_CTDPRO.cnv\n",
      "C:\\Data\\Ocean\\OceanAccounts AlgoaBay Data\\2018_PELTER_CTD\\Run 1\\2018-07_PELTER_CTD\\RawData\\SAEON_ABSS_CTP_20180705_PELTERP1_FV00_CTDPRO.cnv\n"
     ]
    },
    {
     "name": "stderr",
     "output_type": "stream",
     "text": [
      "It was supposed to has 13 variables.\n",
      "It was supposed to has 13 variables.\n"
     ]
    },
    {
     "name": "stdout",
     "output_type": "stream",
     "text": [
      "C:\\Data\\Ocean\\OceanAccounts AlgoaBay Data\\2018_PELTER_CTD\\Run 1\\2018-07_PELTER_CTD\\RawData\\SAEON_ABSS_CTP_20180705_PELTERP2_FV00_CTDPRO.cnv\n",
      "C:\\Data\\Ocean\\OceanAccounts AlgoaBay Data\\2018_PELTER_CTD\\Run 1\\2018-07_PELTER_CTD\\RawData\\SAEON_ABSS_CTP_20180705_PELTERP3_FV00_CTDPRO.cnv\n"
     ]
    },
    {
     "name": "stderr",
     "output_type": "stream",
     "text": [
      "It was supposed to has 13 variables.\n",
      "It was supposed to has 13 variables.\n"
     ]
    },
    {
     "name": "stdout",
     "output_type": "stream",
     "text": [
      "C:\\Data\\Ocean\\OceanAccounts AlgoaBay Data\\2018_PELTER_CTD\\Run 1\\2018-07_PELTER_CTD\\RawData\\SAEON_ABSS_CTP_20180705_PELTERP4_FV00_CTDPRO.cnv\n",
      "C:\\Data\\Ocean\\OceanAccounts AlgoaBay Data\\2018_PELTER_CTD\\Run 1\\2018-07_PELTER_CTD\\RawData\\SAEON_ABSS_CTP_20180705_PELTERP5_FV00_CTDPRO.cnv\n"
     ]
    },
    {
     "name": "stderr",
     "output_type": "stream",
     "text": [
      "It was supposed to has 13 variables.\n",
      "It was supposed to has 13 variables.\n"
     ]
    },
    {
     "name": "stdout",
     "output_type": "stream",
     "text": [
      "C:\\Data\\Ocean\\OceanAccounts AlgoaBay Data\\2018_PELTER_CTD\\Run 1\\2018-07_PELTER_CTD\\RawData\\SAEON_ABSS_CTP_20180705_PELTERP6_FV00_CTDPRO.cnv\n",
      "C:\\Data\\Ocean\\OceanAccounts AlgoaBay Data\\2018_PELTER_CTD\\Run 1\\2018-07_PELTER_CTD\\RawData\\SAEON_ABSS_CTP_20180705_PELTERP7_FV00_CTDPRO.cnv\n"
     ]
    },
    {
     "name": "stderr",
     "output_type": "stream",
     "text": [
      "It was supposed to has 13 variables.\n"
     ]
    },
    {
     "name": "stdout",
     "output_type": "stream",
     "text": [
      "C:\\Data\\Ocean\\OceanAccounts AlgoaBay Data\\2018_PELTER_CTD\\Run 1\\2018-07_PELTER_CTD\\RawData\\SAEON_ABSS_CTP_20180705_PELTERP8_FV00_CTDPRO.cnv\n"
     ]
    },
    {
     "name": "stderr",
     "output_type": "stream",
     "text": [
      "It was supposed to has 13 variables.\n",
      "It was supposed to has 13 variables.\n"
     ]
    },
    {
     "name": "stdout",
     "output_type": "stream",
     "text": [
      "C:\\Data\\Ocean\\OceanAccounts AlgoaBay Data\\2018_PELTER_CTD\\Run 1\\2018-08_PELTER_CTD\\RawData\\SAEON_ABSS_CTP_20180829_PELTERP1_FV00_CTDPRO.cnv\n",
      "C:\\Data\\Ocean\\OceanAccounts AlgoaBay Data\\2018_PELTER_CTD\\Run 1\\2018-08_PELTER_CTD\\RawData\\SAEON_ABSS_CTP_20180829_PELTERP2_FV00_CTDPRO.cnv\n"
     ]
    },
    {
     "name": "stderr",
     "output_type": "stream",
     "text": [
      "It was supposed to has 13 variables.\n",
      "It was supposed to has 13 variables.\n"
     ]
    },
    {
     "name": "stdout",
     "output_type": "stream",
     "text": [
      "C:\\Data\\Ocean\\OceanAccounts AlgoaBay Data\\2018_PELTER_CTD\\Run 1\\2018-08_PELTER_CTD\\RawData\\SAEON_ABSS_CTP_20180829_PELTERP3_FV00_CTDPRO.cnv\n",
      "C:\\Data\\Ocean\\OceanAccounts AlgoaBay Data\\2018_PELTER_CTD\\Run 1\\2018-08_PELTER_CTD\\RawData\\SAEON_ABSS_CTP_20180829_PELTERP4_FV00_CTDPRO.cnv\n"
     ]
    },
    {
     "name": "stderr",
     "output_type": "stream",
     "text": [
      "It was supposed to has 13 variables.\n",
      "It was supposed to has 13 variables.\n"
     ]
    },
    {
     "name": "stdout",
     "output_type": "stream",
     "text": [
      "C:\\Data\\Ocean\\OceanAccounts AlgoaBay Data\\2018_PELTER_CTD\\Run 1\\2018-08_PELTER_CTD\\RawData\\SAEON_ABSS_CTP_20180829_PELTERP5_FV00_CTDPRO.cnv\n",
      "C:\\Data\\Ocean\\OceanAccounts AlgoaBay Data\\2018_PELTER_CTD\\Run 1\\2018-08_PELTER_CTD\\RawData\\SAEON_ABSS_CTP_20180829_PELTERP6_FV00_CTDPRO.cnv\n"
     ]
    },
    {
     "name": "stderr",
     "output_type": "stream",
     "text": [
      "It was supposed to has 13 variables.\n"
     ]
    },
    {
     "name": "stdout",
     "output_type": "stream",
     "text": [
      "C:\\Data\\Ocean\\OceanAccounts AlgoaBay Data\\2018_PELTER_CTD\\Run 1\\2018-08_PELTER_CTD\\RawData\\SAEON_ABSS_CTP_20180829_PELTERP7_FV00_CTDPRO.cnv\n"
     ]
    },
    {
     "name": "stderr",
     "output_type": "stream",
     "text": [
      "It was supposed to has 13 variables.\n",
      "It was supposed to has 13 variables.\n"
     ]
    },
    {
     "name": "stdout",
     "output_type": "stream",
     "text": [
      "C:\\Data\\Ocean\\OceanAccounts AlgoaBay Data\\2018_PELTER_CTD\\Run 1\\2018-08_PELTER_CTD\\RawData\\SAEON_ABSS_CTP_20180829_PELTERP8_FV00_CTDPRO.cnv\n",
      "C:\\Data\\Ocean\\OceanAccounts AlgoaBay Data\\2018_PELTER_CTD\\Run 2\\2018-09_PELTER_CTD\\RawData\\SAEON_ABSS_CTP_20180911_PELTERP2_FV00_CTDPRO.cnv\n"
     ]
    },
    {
     "name": "stderr",
     "output_type": "stream",
     "text": [
      "It was supposed to has 13 variables.\n",
      "It was supposed to has 13 variables.\n"
     ]
    },
    {
     "name": "stdout",
     "output_type": "stream",
     "text": [
      "C:\\Data\\Ocean\\OceanAccounts AlgoaBay Data\\2018_PELTER_CTD\\Run 2\\2018-09_PELTER_CTD\\RawData\\SAEON_ABSS_CTP_20180911_PELTERP3_FV00_CTDPRO.cnv\n",
      "C:\\Data\\Ocean\\OceanAccounts AlgoaBay Data\\2018_PELTER_CTD\\Run 2\\2018-09_PELTER_CTD\\RawData\\SAEON_ABSS_CTP_20180911_PELTERP4_FV00_CTDPRO.cnv\n"
     ]
    },
    {
     "name": "stderr",
     "output_type": "stream",
     "text": [
      "It was supposed to has 13 variables.\n",
      "It was supposed to has 13 variables.\n"
     ]
    },
    {
     "name": "stdout",
     "output_type": "stream",
     "text": [
      "C:\\Data\\Ocean\\OceanAccounts AlgoaBay Data\\2018_PELTER_CTD\\Run 2\\2018-09_PELTER_CTD\\RawData\\SAEON_ABSS_CTP_20180911_PELTERP5_FV00_CTDPRO.cnv\n",
      "C:\\Data\\Ocean\\OceanAccounts AlgoaBay Data\\2018_PELTER_CTD\\Run 2\\2018-09_PELTER_CTD\\RawData\\SAEON_ABSS_CTP_20180911_PELTERP6_FV00_CTDPRO.cnv\n"
     ]
    },
    {
     "name": "stderr",
     "output_type": "stream",
     "text": [
      "It was supposed to has 13 variables.\n"
     ]
    },
    {
     "name": "stdout",
     "output_type": "stream",
     "text": [
      "C:\\Data\\Ocean\\OceanAccounts AlgoaBay Data\\2018_PELTER_CTD\\Run 2\\2018-09_PELTER_CTD\\RawData\\SAEON_ABSS_CTP_20180911_PELTERP7_FV00_CTDPRO.cnv\n"
     ]
    },
    {
     "name": "stderr",
     "output_type": "stream",
     "text": [
      "It was supposed to has 13 variables.\n"
     ]
    },
    {
     "name": "stdout",
     "output_type": "stream",
     "text": [
      "C:\\Data\\Ocean\\OceanAccounts AlgoaBay Data\\2018_PELTER_CTD\\Run 2\\2018-09_PELTER_CTD\\RawData\\SAEON_ABSS_CTP_20180911_PELTERP8_FV00_CTDPRO.cnv\n"
     ]
    },
    {
     "name": "stderr",
     "output_type": "stream",
     "text": [
      "It was supposed to has 13 variables.\n",
      "It was supposed to has 13 variables.\n"
     ]
    },
    {
     "name": "stdout",
     "output_type": "stream",
     "text": [
      "C:\\Data\\Ocean\\OceanAccounts AlgoaBay Data\\2018_PELTER_CTD\\Run 2\\2018-10_PELTER_CTD\\RawData\\SAEON_ABSS_CTP_20181025_PELTERP1_FV00_CTDPRO.cnv\n",
      "C:\\Data\\Ocean\\OceanAccounts AlgoaBay Data\\2018_PELTER_CTD\\Run 2\\2018-10_PELTER_CTD\\RawData\\SAEON_ABSS_CTP_20181025_PELTERP2_FV00_CTDPRO.cnv\n"
     ]
    },
    {
     "name": "stderr",
     "output_type": "stream",
     "text": [
      "It was supposed to has 13 variables.\n",
      "It was supposed to has 13 variables.\n"
     ]
    },
    {
     "name": "stdout",
     "output_type": "stream",
     "text": [
      "C:\\Data\\Ocean\\OceanAccounts AlgoaBay Data\\2018_PELTER_CTD\\Run 2\\2018-10_PELTER_CTD\\RawData\\SAEON_ABSS_CTP_20181025_PELTERP3_FV00_CTDPRO.cnv\n",
      "C:\\Data\\Ocean\\OceanAccounts AlgoaBay Data\\2018_PELTER_CTD\\Run 2\\2018-10_PELTER_CTD\\RawData\\SAEON_ABSS_CTP_20181025_PELTERP4_FV00_CTDPRO.cnv"
     ]
    },
    {
     "name": "stderr",
     "output_type": "stream",
     "text": [
      "It was supposed to has 13 variables.\n"
     ]
    },
    {
     "name": "stdout",
     "output_type": "stream",
     "text": [
      "\n",
      "C:\\Data\\Ocean\\OceanAccounts AlgoaBay Data\\2018_PELTER_CTD\\Run 2\\2018-10_PELTER_CTD\\RawData\\SAEON_ABSS_CTP_20181025_PELTERP5_FV00_CTDPRO.cnv\n"
     ]
    },
    {
     "name": "stderr",
     "output_type": "stream",
     "text": [
      "It was supposed to has 13 variables.\n",
      "It was supposed to has 13 variables.\n"
     ]
    },
    {
     "name": "stdout",
     "output_type": "stream",
     "text": [
      "C:\\Data\\Ocean\\OceanAccounts AlgoaBay Data\\2018_PELTER_CTD\\Run 2\\2018-10_PELTER_CTD\\RawData\\SAEON_ABSS_CTP_20181025_PELTERP6_FV00_CTDPRO.cnv\n",
      "C:\\Data\\Ocean\\OceanAccounts AlgoaBay Data\\2018_PELTER_CTD\\Run 2\\2018-10_PELTER_CTD\\RawData\\SAEON_ABSS_CTP_20181025_PELTERP8_FV00_CTDPRO.cnv\n"
     ]
    },
    {
     "name": "stderr",
     "output_type": "stream",
     "text": [
      "It was supposed to has 13 variables.\n",
      "It was supposed to has 13 variables.\n"
     ]
    },
    {
     "name": "stdout",
     "output_type": "stream",
     "text": [
      "C:\\Data\\Ocean\\OceanAccounts AlgoaBay Data\\2018_PELTER_CTD\\Run 2\\2018-11_PELTER_CTD\\RawData\\SAEON_ABSS_CTP_20181115_PELTERP1_FV00_CTDPRO.cnv\n",
      "C:\\Data\\Ocean\\OceanAccounts AlgoaBay Data\\2018_PELTER_CTD\\Run 2\\2018-11_PELTER_CTD\\RawData\\SAEON_ABSS_CTP_20181115_PELTERP2_FV00_CTDPRO.cnv\n"
     ]
    },
    {
     "name": "stderr",
     "output_type": "stream",
     "text": [
      "It was supposed to has 13 variables.\n",
      "It was supposed to has 13 variables.\n"
     ]
    },
    {
     "name": "stdout",
     "output_type": "stream",
     "text": [
      "C:\\Data\\Ocean\\OceanAccounts AlgoaBay Data\\2018_PELTER_CTD\\Run 2\\2018-11_PELTER_CTD\\RawData\\SAEON_ABSS_CTP_20181115_PELTERP3_FV00_CTDPRO.cnv\n",
      "C:\\Data\\Ocean\\OceanAccounts AlgoaBay Data\\2018_PELTER_CTD\\Run 2\\2018-11_PELTER_CTD\\RawData\\SAEON_ABSS_CTP_20181115_PELTERP4_FV00_CTDPRO.cnv\n"
     ]
    },
    {
     "name": "stderr",
     "output_type": "stream",
     "text": [
      "It was supposed to has 13 variables.\n",
      "It was supposed to has 13 variables.\n"
     ]
    },
    {
     "name": "stdout",
     "output_type": "stream",
     "text": [
      "C:\\Data\\Ocean\\OceanAccounts AlgoaBay Data\\2018_PELTER_CTD\\Run 2\\2018-11_PELTER_CTD\\RawData\\SAEON_ABSS_CTP_20181115_PELTERP5_FV00_CTDPRO.cnv\n",
      "C:\\Data\\Ocean\\OceanAccounts AlgoaBay Data\\2018_PELTER_CTD\\Run 2\\2018-11_PELTER_CTD\\RawData\\SAEON_ABSS_CTP_20181115_PELTERP6_FV00_CTDPRO.cnv\n"
     ]
    },
    {
     "name": "stderr",
     "output_type": "stream",
     "text": [
      "It was supposed to has 13 variables.\n"
     ]
    },
    {
     "name": "stdout",
     "output_type": "stream",
     "text": [
      "C:\\Data\\Ocean\\OceanAccounts AlgoaBay Data\\2018_PELTER_CTD\\Run 2\\2018-11_PELTER_CTD\\RawData\\SAEON_ABSS_CTP_20181115_PELTERP7_FV00_CTDPRO.cnv\n"
     ]
    },
    {
     "name": "stderr",
     "output_type": "stream",
     "text": [
      "It was supposed to has 13 variables.\n"
     ]
    },
    {
     "name": "stdout",
     "output_type": "stream",
     "text": [
      "C:\\Data\\Ocean\\OceanAccounts AlgoaBay Data\\2018_PELTER_CTD\\Run 2\\2018-11_PELTER_CTD\\RawData\\SAEON_ABSS_CTP_20181115_PELTERP8_FV00_CTDPRO.cnv\n"
     ]
    },
    {
     "name": "stderr",
     "output_type": "stream",
     "text": [
      "It was supposed to has 13 variables.\n",
      "It was supposed to has 13 variables.\n"
     ]
    },
    {
     "name": "stdout",
     "output_type": "stream",
     "text": [
      "C:\\Data\\Ocean\\OceanAccounts AlgoaBay Data\\2018_PELTER_CTD\\Run 2\\2018-12_PELTER_CTD\\RawData\\SAEON_ABSS_CTP_20181209_PELTERP1_FV00_CTDPRO.cnv\n",
      "C:\\Data\\Ocean\\OceanAccounts AlgoaBay Data\\2018_PELTER_CTD\\Run 2\\2018-12_PELTER_CTD\\RawData\\SAEON_ABSS_CTP_20181209_PELTERP2_FV00_CTDPRO.cnv\n"
     ]
    },
    {
     "name": "stderr",
     "output_type": "stream",
     "text": [
      "It was supposed to has 13 variables.\n",
      "It was supposed to has 13 variables.\n"
     ]
    },
    {
     "name": "stdout",
     "output_type": "stream",
     "text": [
      "C:\\Data\\Ocean\\OceanAccounts AlgoaBay Data\\2018_PELTER_CTD\\Run 2\\2018-12_PELTER_CTD\\RawData\\SAEON_ABSS_CTP_20181209_PELTERP3_FV00_CTDPRO.cnv\n",
      "C:\\Data\\Ocean\\OceanAccounts AlgoaBay Data\\2018_PELTER_CTD\\Run 2\\2018-12_PELTER_CTD\\RawData\\SAEON_ABSS_CTP_20181209_PELTERP4_FV00_CTDPRO.cnv\n"
     ]
    },
    {
     "name": "stderr",
     "output_type": "stream",
     "text": [
      "It was supposed to has 13 variables.\n",
      "It was supposed to has 13 variables.\n"
     ]
    },
    {
     "name": "stdout",
     "output_type": "stream",
     "text": [
      "C:\\Data\\Ocean\\OceanAccounts AlgoaBay Data\\2018_PELTER_CTD\\Run 2\\2018-12_PELTER_CTD\\RawData\\SAEON_ABSS_CTP_20181209_PELTERP5_FV00_CTDPRO.cnv\n",
      "C:\\Data\\Ocean\\OceanAccounts AlgoaBay Data\\2018_PELTER_CTD\\Run 2\\2018-12_PELTER_CTD\\RawData\\SAEON_ABSS_CTP_20181209_PELTERP6_FV00_CTDPRO.cnv\n"
     ]
    },
    {
     "name": "stderr",
     "output_type": "stream",
     "text": [
      "It was supposed to has 13 variables.\n"
     ]
    },
    {
     "name": "stdout",
     "output_type": "stream",
     "text": [
      "C:\\Data\\Ocean\\OceanAccounts AlgoaBay Data\\2018_PELTER_CTD\\Run 2\\2018-12_PELTER_CTD\\RawData\\SAEON_ABSS_CTP_20181209_PELTERP7_FV00_CTDPRO.cnv\n"
     ]
    },
    {
     "name": "stderr",
     "output_type": "stream",
     "text": [
      "It was supposed to has 13 variables.\n",
      "It was supposed to has 13 variables.\n"
     ]
    },
    {
     "name": "stdout",
     "output_type": "stream",
     "text": [
      "C:\\Data\\Ocean\\OceanAccounts AlgoaBay Data\\2018_PELTER_CTD\\Run 2\\2018-12_PELTER_CTD\\RawData\\SAEON_ABSS_CTP_20181209_PELTERP8_FV00_CTDPRO.cnv\n",
      "C:\\Data\\Ocean\\OceanAccounts AlgoaBay Data\\2019_PELTER_CTD\\2019-02-05_PELTER_CTD\\SAEON_ABSS_CTP_20190205_PELTERP1_FV00_CTDPRO.cnv\n"
     ]
    },
    {
     "name": "stderr",
     "output_type": "stream",
     "text": [
      "It was supposed to has 13 variables.\n",
      "It was supposed to has 13 variables.\n"
     ]
    },
    {
     "name": "stdout",
     "output_type": "stream",
     "text": [
      "C:\\Data\\Ocean\\OceanAccounts AlgoaBay Data\\2019_PELTER_CTD\\2019-02-05_PELTER_CTD\\SAEON_ABSS_CTP_20190205_PELTERP2_FV00_CTDPRO.cnv\n",
      "C:\\Data\\Ocean\\OceanAccounts AlgoaBay Data\\2019_PELTER_CTD\\2019-02-05_PELTER_CTD\\SAEON_ABSS_CTP_20190205_PELTERP3_FV00_CTDPRO.cnv\n"
     ]
    },
    {
     "name": "stderr",
     "output_type": "stream",
     "text": [
      "It was supposed to has 13 variables.\n",
      "It was supposed to has 13 variables.\n"
     ]
    },
    {
     "name": "stdout",
     "output_type": "stream",
     "text": [
      "C:\\Data\\Ocean\\OceanAccounts AlgoaBay Data\\2019_PELTER_CTD\\2019-02-05_PELTER_CTD\\SAEON_ABSS_CTP_20190205_PELTERP4_FV00_CTDPRO.cnv\n",
      "C:\\Data\\Ocean\\OceanAccounts AlgoaBay Data\\2019_PELTER_CTD\\2019-02-05_PELTER_CTD\\SAEON_ABSS_CTP_20190205_PELTERP5_FV00_CTDPRO.cnv\n"
     ]
    },
    {
     "name": "stderr",
     "output_type": "stream",
     "text": [
      "It was supposed to has 13 variables.\n",
      "It was supposed to has 13 variables.\n"
     ]
    },
    {
     "name": "stdout",
     "output_type": "stream",
     "text": [
      "C:\\Data\\Ocean\\OceanAccounts AlgoaBay Data\\2019_PELTER_CTD\\2019-02-05_PELTER_CTD\\SAEON_ABSS_CTP_20190205_PELTERP6_FV00_CTDPRO.cnv\n",
      "C:\\Data\\Ocean\\OceanAccounts AlgoaBay Data\\2019_PELTER_CTD\\2019-02-05_PELTER_CTD\\SAEON_ABSS_CTP_20190205_PELTERP7_FV00_CTDPRO.cnv\n"
     ]
    },
    {
     "name": "stderr",
     "output_type": "stream",
     "text": [
      "It was supposed to has 13 variables.\n",
      "It was supposed to has 13 variables.\n"
     ]
    },
    {
     "name": "stdout",
     "output_type": "stream",
     "text": [
      "C:\\Data\\Ocean\\OceanAccounts AlgoaBay Data\\2019_PELTER_CTD\\2019-02-05_PELTER_CTD\\SAEON_ABSS_CTP_20190205_PELTERP8_FV00_CTDPRO.cnv\n",
      "C:\\Data\\Ocean\\OceanAccounts AlgoaBay Data\\2019_PELTER_CTD\\2019-02-25_PELTER_CTD\\SAEON_ABSS_CTP_20190225_PELTERP1_FV00_CTDPRO.cnv\n"
     ]
    },
    {
     "name": "stderr",
     "output_type": "stream",
     "text": [
      "It was supposed to has 13 variables.\n",
      "It was supposed to has 13 variables.\n"
     ]
    },
    {
     "name": "stdout",
     "output_type": "stream",
     "text": [
      "C:\\Data\\Ocean\\OceanAccounts AlgoaBay Data\\2019_PELTER_CTD\\2019-02-25_PELTER_CTD\\SAEON_ABSS_CTP_20190225_PELTERP2_FV00_CTDPRO.cnv\n",
      "C:\\Data\\Ocean\\OceanAccounts AlgoaBay Data\\2019_PELTER_CTD\\2019-02-25_PELTER_CTD\\SAEON_ABSS_CTP_20190225_PELTERP3_FV00_CTDPRO.cnv\n"
     ]
    },
    {
     "name": "stderr",
     "output_type": "stream",
     "text": [
      "It was supposed to has 13 variables.\n",
      "It was supposed to has 13 variables.\n"
     ]
    },
    {
     "name": "stdout",
     "output_type": "stream",
     "text": [
      "C:\\Data\\Ocean\\OceanAccounts AlgoaBay Data\\2019_PELTER_CTD\\2019-02-25_PELTER_CTD\\SAEON_ABSS_CTP_20190225_PELTERP4_FV00_CTDPRO.cnv\n"
     ]
    },
    {
     "name": "stderr",
     "output_type": "stream",
     "text": [
      "It was supposed to has 13 variables.\n"
     ]
    },
    {
     "name": "stdout",
     "output_type": "stream",
     "text": [
      "C:\\Data\\Ocean\\OceanAccounts AlgoaBay Data\\2019_PELTER_CTD\\2019-02-25_PELTER_CTD\\SAEON_ABSS_CTP_20190225_PELTERP5_FV00_CTDPRO.cnv\n",
      "C:\\Data\\Ocean\\OceanAccounts AlgoaBay Data\\2019_PELTER_CTD\\2019-02-25_PELTER_CTD\\SAEON_ABSS_CTP_20190225_PELTERP6_FV00_CTDPRO.cnv\n"
     ]
    },
    {
     "name": "stderr",
     "output_type": "stream",
     "text": [
      "It was supposed to has 13 variables.\n"
     ]
    },
    {
     "name": "stdout",
     "output_type": "stream",
     "text": [
      "C:\\Data\\Ocean\\OceanAccounts AlgoaBay Data\\2019_PELTER_CTD\\2019-02-25_PELTER_CTD\\SAEON_ABSS_CTP_20190225_PELTERP7_FV00_CTDPRO.cnv\n"
     ]
    },
    {
     "name": "stderr",
     "output_type": "stream",
     "text": [
      "It was supposed to has 13 variables.\n"
     ]
    },
    {
     "name": "stdout",
     "output_type": "stream",
     "text": [
      "C:\\Data\\Ocean\\OceanAccounts AlgoaBay Data\\2019_PELTER_CTD\\2019-02-25_PELTER_CTD\\SAEON_ABSS_CTP_20190225_PELTERP8_FV00_CTDPRO.cnv\n"
     ]
    },
    {
     "name": "stderr",
     "output_type": "stream",
     "text": [
      "It was supposed to has 13 variables.\n",
      "It was supposed to has 13 variables.\n"
     ]
    },
    {
     "name": "stdout",
     "output_type": "stream",
     "text": [
      "C:\\Data\\Ocean\\OceanAccounts AlgoaBay Data\\2019_PELTER_CTD\\2019-03_PELTER_CTD\\SAEON_ABSS_CTP_20190319_PELTERP1_FV00_CTDPRO.cnv\n",
      "C:\\Data\\Ocean\\OceanAccounts AlgoaBay Data\\2019_PELTER_CTD\\2019-03_PELTER_CTD\\SAEON_ABSS_CTP_20190319_PELTERP2_FV00_CTDPRO.cnv\n"
     ]
    },
    {
     "name": "stderr",
     "output_type": "stream",
     "text": [
      "It was supposed to has 13 variables.\n",
      "It was supposed to has 13 variables.\n"
     ]
    },
    {
     "name": "stdout",
     "output_type": "stream",
     "text": [
      "C:\\Data\\Ocean\\OceanAccounts AlgoaBay Data\\2019_PELTER_CTD\\2019-03_PELTER_CTD\\SAEON_ABSS_CTP_20190319_PELTERP3_FV00_CTDPRO.cnv\n",
      "C:\\Data\\Ocean\\OceanAccounts AlgoaBay Data\\2019_PELTER_CTD\\2019-03_PELTER_CTD\\SAEON_ABSS_CTP_20190319_PELTERP4_FV00_CTDPRO.cnv\n"
     ]
    },
    {
     "name": "stderr",
     "output_type": "stream",
     "text": [
      "It was supposed to has 13 variables.\n",
      "It was supposed to has 13 variables.\n"
     ]
    },
    {
     "name": "stdout",
     "output_type": "stream",
     "text": [
      "C:\\Data\\Ocean\\OceanAccounts AlgoaBay Data\\2019_PELTER_CTD\\2019-03_PELTER_CTD\\SAEON_ABSS_CTP_20190319_PELTERP5_FV00_CTDPRO.cnv\n",
      "C:\\Data\\Ocean\\OceanAccounts AlgoaBay Data\\2019_PELTER_CTD\\2019-03_PELTER_CTD\\SAEON_ABSS_CTP_20190319_PELTERP6_FV00_CTDPRO.cnv\n"
     ]
    },
    {
     "name": "stderr",
     "output_type": "stream",
     "text": [
      "It was supposed to has 13 variables.\n"
     ]
    },
    {
     "name": "stdout",
     "output_type": "stream",
     "text": [
      "C:\\Data\\Ocean\\OceanAccounts AlgoaBay Data\\2019_PELTER_CTD\\2019-03_PELTER_CTD\\SAEON_ABSS_CTP_20190319_PELTERP7_FV00_CTDPRO.cnv\n"
     ]
    },
    {
     "name": "stderr",
     "output_type": "stream",
     "text": [
      "It was supposed to has 13 variables.\n"
     ]
    },
    {
     "name": "stdout",
     "output_type": "stream",
     "text": [
      "C:\\Data\\Ocean\\OceanAccounts AlgoaBay Data\\2019_PELTER_CTD\\2019-03_PELTER_CTD\\SAEON_ABSS_CTP_20190319_PELTERP8_FV00_CTDPRO.cnv\n"
     ]
    },
    {
     "name": "stderr",
     "output_type": "stream",
     "text": [
      "It was supposed to has 13 variables.\n",
      "It was supposed to has 13 variables.\n"
     ]
    },
    {
     "name": "stdout",
     "output_type": "stream",
     "text": [
      "C:\\Data\\Ocean\\OceanAccounts AlgoaBay Data\\2019_PELTER_CTD\\2019-05_PELTER_CTD\\SAEON_ABSS_CTP_20190510_PELTERP1_FV00_CTDPRO.cnv\n",
      "C:\\Data\\Ocean\\OceanAccounts AlgoaBay Data\\2019_PELTER_CTD\\2019-05_PELTER_CTD\\SAEON_ABSS_CTP_20190510_PELTERP2_FV00_CTDPRO.cnv\n"
     ]
    },
    {
     "name": "stderr",
     "output_type": "stream",
     "text": [
      "It was supposed to has 13 variables.\n",
      "It was supposed to has 13 variables.\n"
     ]
    },
    {
     "name": "stdout",
     "output_type": "stream",
     "text": [
      "C:\\Data\\Ocean\\OceanAccounts AlgoaBay Data\\2019_PELTER_CTD\\2019-05_PELTER_CTD\\SAEON_ABSS_CTP_20190510_PELTERP3_FV00_CTDPRO.cnv\n",
      "C:\\Data\\Ocean\\OceanAccounts AlgoaBay Data\\2019_PELTER_CTD\\2019-05_PELTER_CTD\\SAEON_ABSS_CTP_20190510_PELTERP4_FV00_CTDPRO.cnv\n"
     ]
    },
    {
     "name": "stderr",
     "output_type": "stream",
     "text": [
      "It was supposed to has 13 variables.\n",
      "It was supposed to has 13 variables.\n"
     ]
    },
    {
     "name": "stdout",
     "output_type": "stream",
     "text": [
      "C:\\Data\\Ocean\\OceanAccounts AlgoaBay Data\\2019_PELTER_CTD\\2019-05_PELTER_CTD\\SAEON_ABSS_CTP_20190510_PELTERP5_FV00_CTDPRO.cnv\n",
      "C:\\Data\\Ocean\\OceanAccounts AlgoaBay Data\\2019_PELTER_CTD\\2019-05_PELTER_CTD\\SAEON_ABSS_CTP_20190510_PELTERP6_FV00_CTDPRO.cnv\n"
     ]
    },
    {
     "name": "stderr",
     "output_type": "stream",
     "text": [
      "It was supposed to has 13 variables.\n"
     ]
    },
    {
     "name": "stdout",
     "output_type": "stream",
     "text": [
      "C:\\Data\\Ocean\\OceanAccounts AlgoaBay Data\\2019_PELTER_CTD\\2019-05_PELTER_CTD\\SAEON_ABSS_CTP_20190510_PELTERP7_FV00_CTDPRO.cnv\n"
     ]
    },
    {
     "name": "stderr",
     "output_type": "stream",
     "text": [
      "It was supposed to has 13 variables.\n"
     ]
    },
    {
     "name": "stdout",
     "output_type": "stream",
     "text": [
      "C:\\Data\\Ocean\\OceanAccounts AlgoaBay Data\\2019_PELTER_CTD\\2019-05_PELTER_CTD\\SAEON_ABSS_CTP_20190510_PELTERP8_FV00_CTDPRO.cnv\n"
     ]
    },
    {
     "name": "stderr",
     "output_type": "stream",
     "text": [
      "It was supposed to has 13 variables.\n",
      "It was supposed to has 13 variables.\n"
     ]
    },
    {
     "name": "stdout",
     "output_type": "stream",
     "text": [
      "C:\\Data\\Ocean\\OceanAccounts AlgoaBay Data\\2019_PELTER_CTD\\2019-06_PELTER_CTD\\SAEON_ABSS_CTP_20190614_PELTERP1_FV00_CTDPRO.cnv\n",
      "C:\\Data\\Ocean\\OceanAccounts AlgoaBay Data\\2019_PELTER_CTD\\2019-06_PELTER_CTD\\SAEON_ABSS_CTP_20190614_PELTERP2_FV00_CTDPRO.cnv\n"
     ]
    },
    {
     "name": "stderr",
     "output_type": "stream",
     "text": [
      "It was supposed to has 13 variables.\n",
      "It was supposed to has 13 variables.\n"
     ]
    },
    {
     "name": "stdout",
     "output_type": "stream",
     "text": [
      "C:\\Data\\Ocean\\OceanAccounts AlgoaBay Data\\2019_PELTER_CTD\\2019-06_PELTER_CTD\\SAEON_ABSS_CTP_20190614_PELTERP3_FV00_CTDPRO.cnv\n",
      "C:\\Data\\Ocean\\OceanAccounts AlgoaBay Data\\2019_PELTER_CTD\\2019-06_PELTER_CTD\\SAEON_ABSS_CTP_20190614_PELTERP4_FV00_CTDPRO.cnv\n"
     ]
    },
    {
     "name": "stderr",
     "output_type": "stream",
     "text": [
      "It was supposed to has 13 variables.\n",
      "It was supposed to has 13 variables.\n"
     ]
    },
    {
     "name": "stdout",
     "output_type": "stream",
     "text": [
      "C:\\Data\\Ocean\\OceanAccounts AlgoaBay Data\\2019_PELTER_CTD\\2019-06_PELTER_CTD\\SAEON_ABSS_CTP_20190614_PELTERP5_FV00_CTDPRO.cnv\n",
      "C:\\Data\\Ocean\\OceanAccounts AlgoaBay Data\\2019_PELTER_CTD\\2019-06_PELTER_CTD\\SAEON_ABSS_CTP_20190614_PELTERP6_FV00_CTDPRO.cnv\n"
     ]
    },
    {
     "name": "stderr",
     "output_type": "stream",
     "text": [
      "It was supposed to has 13 variables.\n"
     ]
    },
    {
     "name": "stdout",
     "output_type": "stream",
     "text": [
      "C:\\Data\\Ocean\\OceanAccounts AlgoaBay Data\\2019_PELTER_CTD\\2019-06_PELTER_CTD\\SAEON_ABSS_CTP_20190614_PELTERP7_FV00_CTDPRO.cnv\n"
     ]
    },
    {
     "name": "stderr",
     "output_type": "stream",
     "text": [
      "It was supposed to has 13 variables.\n"
     ]
    },
    {
     "name": "stdout",
     "output_type": "stream",
     "text": [
      "C:\\Data\\Ocean\\OceanAccounts AlgoaBay Data\\2019_PELTER_CTD\\2019-06_PELTER_CTD\\SAEON_ABSS_CTP_20190614_PELTERP8_FV00_CTDPRO.cnv\n"
     ]
    },
    {
     "name": "stderr",
     "output_type": "stream",
     "text": [
      "It was supposed to has 13 variables.\n",
      "It was supposed to has 13 variables.\n"
     ]
    },
    {
     "name": "stdout",
     "output_type": "stream",
     "text": [
      "C:\\Data\\Ocean\\OceanAccounts AlgoaBay Data\\2019_PELTER_CTD\\2019-07_PELTER_CTD\\SAEON_ABSS_CTP_20190715_PELTERP1_FV00_CTDPRO.cnv\n",
      "C:\\Data\\Ocean\\OceanAccounts AlgoaBay Data\\2019_PELTER_CTD\\2019-07_PELTER_CTD\\SAEON_ABSS_CTP_20190715_PELTERP2_FV00_CTDPRO.cnv\n"
     ]
    },
    {
     "name": "stderr",
     "output_type": "stream",
     "text": [
      "It was supposed to has 13 variables.\n",
      "It was supposed to has 13 variables.\n"
     ]
    },
    {
     "name": "stdout",
     "output_type": "stream",
     "text": [
      "C:\\Data\\Ocean\\OceanAccounts AlgoaBay Data\\2019_PELTER_CTD\\2019-07_PELTER_CTD\\SAEON_ABSS_CTP_20190715_PELTERP3_FV00_CTDPRO.cnv\n",
      "C:\\Data\\Ocean\\OceanAccounts AlgoaBay Data\\2019_PELTER_CTD\\2019-07_PELTER_CTD\\SAEON_ABSS_CTP_20190715_PELTERP4_FV00_CTDPRO.cnv\n"
     ]
    },
    {
     "name": "stderr",
     "output_type": "stream",
     "text": [
      "It was supposed to has 13 variables.\n",
      "It was supposed to has 13 variables.\n"
     ]
    },
    {
     "name": "stdout",
     "output_type": "stream",
     "text": [
      "C:\\Data\\Ocean\\OceanAccounts AlgoaBay Data\\2019_PELTER_CTD\\2019-07_PELTER_CTD\\SAEON_ABSS_CTP_20190715_PELTERP5_FV00_CTDPRO.cnv\n",
      "C:\\Data\\Ocean\\OceanAccounts AlgoaBay Data\\2019_PELTER_CTD\\2019-07_PELTER_CTD\\SAEON_ABSS_CTP_20190715_PELTERP6_FV00_CTDPRO.cnv\n"
     ]
    },
    {
     "name": "stderr",
     "output_type": "stream",
     "text": [
      "It was supposed to has 13 variables.\n",
      "It was supposed to has 13 variables.\n"
     ]
    },
    {
     "name": "stdout",
     "output_type": "stream",
     "text": [
      "C:\\Data\\Ocean\\OceanAccounts AlgoaBay Data\\2019_PELTER_CTD\\2019-07_PELTER_CTD\\SAEON_ABSS_CTP_20190715_PELTERP7_FV00_CTDPRO.cnv\n",
      "C:\\Data\\Ocean\\OceanAccounts AlgoaBay Data\\2019_PELTER_CTD\\2019-07_PELTER_CTD\\SAEON_ABSS_CTP_20190715_PELTERP8_FV00_CTDPRO.cnv\n"
     ]
    },
    {
     "name": "stderr",
     "output_type": "stream",
     "text": [
      "It was supposed to has 13 variables.\n",
      "It was supposed to has 13 variables.\n"
     ]
    },
    {
     "name": "stdout",
     "output_type": "stream",
     "text": [
      "C:\\Data\\Ocean\\OceanAccounts AlgoaBay Data\\2019_PELTER_CTD\\2019-08_PELTER_CTD\\SAEON_ABSS_CTP_201900809_PELTERP1_FV00_CTDPRO.cnv\n",
      "C:\\Data\\Ocean\\OceanAccounts AlgoaBay Data\\2019_PELTER_CTD\\2019-08_PELTER_CTD\\SAEON_ABSS_CTP_201900809_PELTERP2_FV00_CTDPRO.cnv\n"
     ]
    },
    {
     "name": "stderr",
     "output_type": "stream",
     "text": [
      "It was supposed to has 13 variables.\n",
      "It was supposed to has 13 variables.\n",
      "It was supposed to has 13 variables.\n"
     ]
    },
    {
     "name": "stdout",
     "output_type": "stream",
     "text": [
      "C:\\Data\\Ocean\\OceanAccounts AlgoaBay Data\\2019_PELTER_CTD\\2019-08_PELTER_CTD\\SAEON_ABSS_CTP_201900809_PELTERP3_FV00_CTDPRO.cnv\n",
      "C:\\Data\\Ocean\\OceanAccounts AlgoaBay Data\\2019_PELTER_CTD\\2019-08_PELTER_CTD\\SAEON_ABSS_CTP_201900809_PELTERP4_FV00_CTDPRO.cnv\n"
     ]
    },
    {
     "name": "stderr",
     "output_type": "stream",
     "text": [
      "It was supposed to has 13 variables.\n"
     ]
    },
    {
     "name": "stdout",
     "output_type": "stream",
     "text": [
      "C:\\Data\\Ocean\\OceanAccounts AlgoaBay Data\\2019_PELTER_CTD\\2019-08_PELTER_CTD\\SAEON_ABSS_CTP_201900809_PELTERP5_FV00_CTDPRO.cnv\n",
      "C:\\Data\\Ocean\\OceanAccounts AlgoaBay Data\\2019_PELTER_CTD\\2019-08_PELTER_CTD\\SAEON_ABSS_CTP_201900809_PELTERP6_FV00_CTDPRO.cnv\n"
     ]
    },
    {
     "name": "stderr",
     "output_type": "stream",
     "text": [
      "It was supposed to has 13 variables.\n"
     ]
    },
    {
     "name": "stdout",
     "output_type": "stream",
     "text": [
      "C:\\Data\\Ocean\\OceanAccounts AlgoaBay Data\\2019_PELTER_CTD\\2019-08_PELTER_CTD\\SAEON_ABSS_CTP_201900809_PELTERP7_FV00_CTDPRO.cnv\n"
     ]
    },
    {
     "name": "stderr",
     "output_type": "stream",
     "text": [
      "It was supposed to has 13 variables.\n",
      "It was supposed to has 13 variables.\n"
     ]
    },
    {
     "name": "stdout",
     "output_type": "stream",
     "text": [
      "C:\\Data\\Ocean\\OceanAccounts AlgoaBay Data\\2019_PELTER_CTD\\2019-08_PELTER_CTD\\SAEON_ABSS_CTP_201900809_PELTERP8_FV00_CTDPRO.cnv\n",
      "C:\\Data\\Ocean\\OceanAccounts AlgoaBay Data\\2019_PELTER_CTD\\2019-09_PELTER_CTD\\SAEON_ABSS_CTP_20190910_PELTERP1_FV00_CTDPRO.cnv\n"
     ]
    },
    {
     "name": "stderr",
     "output_type": "stream",
     "text": [
      "It was supposed to has 13 variables.\n",
      "It was supposed to has 13 variables.\n"
     ]
    },
    {
     "name": "stdout",
     "output_type": "stream",
     "text": [
      "C:\\Data\\Ocean\\OceanAccounts AlgoaBay Data\\2019_PELTER_CTD\\2019-09_PELTER_CTD\\SAEON_ABSS_CTP_20190910_PELTERP2_FV00_CTDPRO.cnv\n",
      "C:\\Data\\Ocean\\OceanAccounts AlgoaBay Data\\2019_PELTER_CTD\\2019-09_PELTER_CTD\\SAEON_ABSS_CTP_20190910_PELTERP3_FV00_CTDPRO.cnv\n"
     ]
    },
    {
     "name": "stderr",
     "output_type": "stream",
     "text": [
      "It was supposed to has 13 variables.\n",
      "It was supposed to has 13 variables.\n"
     ]
    },
    {
     "name": "stdout",
     "output_type": "stream",
     "text": [
      "C:\\Data\\Ocean\\OceanAccounts AlgoaBay Data\\2019_PELTER_CTD\\2019-09_PELTER_CTD\\SAEON_ABSS_CTP_20190910_PELTERP4_FV00_CTDPRO.cnv\n",
      "C:\\Data\\Ocean\\OceanAccounts AlgoaBay Data\\2019_PELTER_CTD\\2019-09_PELTER_CTD\\SAEON_ABSS_CTP_20190910_PELTERP5_FV00_CTDPRO.cnv\n"
     ]
    },
    {
     "name": "stderr",
     "output_type": "stream",
     "text": [
      "It was supposed to has 13 variables.\n",
      "It was supposed to has 13 variables.\n"
     ]
    },
    {
     "name": "stdout",
     "output_type": "stream",
     "text": [
      "C:\\Data\\Ocean\\OceanAccounts AlgoaBay Data\\2019_PELTER_CTD\\2019-09_PELTER_CTD\\SAEON_ABSS_CTP_20190910_PELTERP6_FV00_CTDPRO.cnv\n",
      "C:\\Data\\Ocean\\OceanAccounts AlgoaBay Data\\2019_PELTER_CTD\\2019-09_PELTER_CTD\\SAEON_ABSS_CTP_20190910_PELTERP7_FV00_CTDPRO.cnv\n"
     ]
    },
    {
     "name": "stderr",
     "output_type": "stream",
     "text": [
      "It was supposed to has 13 variables.\n",
      "It was supposed to has 13 variables.\n"
     ]
    },
    {
     "name": "stdout",
     "output_type": "stream",
     "text": [
      "C:\\Data\\Ocean\\OceanAccounts AlgoaBay Data\\2019_PELTER_CTD\\2019-09_PELTER_CTD\\SAEON_ABSS_CTP_20190910_PELTERP8_FV00_CTDPRO.cnv\n",
      "C:\\Data\\Ocean\\OceanAccounts AlgoaBay Data\\2019_PELTER_CTD\\2019-10_PELTER_CTD\\SAEON_ABSS_CTP_20191004_PELTERP1_FV00_CTDPRO.cnv\n"
     ]
    },
    {
     "name": "stderr",
     "output_type": "stream",
     "text": [
      "It was supposed to has 13 variables.\n",
      "It was supposed to has 13 variables.\n"
     ]
    },
    {
     "name": "stdout",
     "output_type": "stream",
     "text": [
      "C:\\Data\\Ocean\\OceanAccounts AlgoaBay Data\\2019_PELTER_CTD\\2019-10_PELTER_CTD\\SAEON_ABSS_CTP_20191004_PELTERP2_FV00_CTDPRO.cnv\n",
      "C:\\Data\\Ocean\\OceanAccounts AlgoaBay Data\\2019_PELTER_CTD\\2019-10_PELTER_CTD\\SAEON_ABSS_CTP_20191004_PELTERP3_FV00_CTDPRO.cnv\n"
     ]
    },
    {
     "name": "stderr",
     "output_type": "stream",
     "text": [
      "It was supposed to has 13 variables.\n",
      "It was supposed to has 13 variables.\n"
     ]
    },
    {
     "name": "stdout",
     "output_type": "stream",
     "text": [
      "C:\\Data\\Ocean\\OceanAccounts AlgoaBay Data\\2019_PELTER_CTD\\2019-10_PELTER_CTD\\SAEON_ABSS_CTP_20191004_PELTERP4_FV00_CTDPRO.cnv\n",
      "C:\\Data\\Ocean\\OceanAccounts AlgoaBay Data\\2019_PELTER_CTD\\2019-10_PELTER_CTD\\SAEON_ABSS_CTP_20191004_PELTERP5_FV00_CTDPRO.cnv\n"
     ]
    },
    {
     "name": "stderr",
     "output_type": "stream",
     "text": [
      "It was supposed to has 13 variables.\n",
      "It was supposed to has 13 variables.\n"
     ]
    },
    {
     "name": "stdout",
     "output_type": "stream",
     "text": [
      "C:\\Data\\Ocean\\OceanAccounts AlgoaBay Data\\2019_PELTER_CTD\\2019-10_PELTER_CTD\\SAEON_ABSS_CTP_20191004_PELTERP6_FV00_CTDPRO.cnv\n",
      "C:\\Data\\Ocean\\OceanAccounts AlgoaBay Data\\2019_PELTER_CTD\\2019-10_PELTER_CTD\\SAEON_ABSS_CTP_20191004_PELTERP7_FV00_CTDPRO.cnv\n"
     ]
    },
    {
     "name": "stderr",
     "output_type": "stream",
     "text": [
      "It was supposed to has 13 variables.\n",
      "It was supposed to has 13 variables.\n"
     ]
    },
    {
     "name": "stdout",
     "output_type": "stream",
     "text": [
      "C:\\Data\\Ocean\\OceanAccounts AlgoaBay Data\\2019_PELTER_CTD\\2019-10_PELTER_CTD\\SAEON_ABSS_CTP_20191004_PELTERP8_FV00_CTDPRO.cnv\n",
      "C:\\Data\\Ocean\\OceanAccounts AlgoaBay Data\\2019_PELTER_CTD\\2019-11_PELTER_CTD\\SAEON_ABSS_CTP_20191121_PELTERP1_FV00_CTDPRO.cnv\n"
     ]
    },
    {
     "name": "stderr",
     "output_type": "stream",
     "text": [
      "It was supposed to has 13 variables.\n",
      "It was supposed to has 13 variables.\n"
     ]
    },
    {
     "name": "stdout",
     "output_type": "stream",
     "text": [
      "C:\\Data\\Ocean\\OceanAccounts AlgoaBay Data\\2019_PELTER_CTD\\2019-11_PELTER_CTD\\SAEON_ABSS_CTP_20191121_PELTERP2_FV00_CTDPRO.cnv\n",
      "C:\\Data\\Ocean\\OceanAccounts AlgoaBay Data\\2019_PELTER_CTD\\2019-11_PELTER_CTD\\SAEON_ABSS_CTP_20191121_PELTERP3_FV00_CTDPRO.cnv\n"
     ]
    },
    {
     "name": "stderr",
     "output_type": "stream",
     "text": [
      "It was supposed to has 13 variables.\n",
      "It was supposed to has 13 variables.\n"
     ]
    },
    {
     "name": "stdout",
     "output_type": "stream",
     "text": [
      "C:\\Data\\Ocean\\OceanAccounts AlgoaBay Data\\2019_PELTER_CTD\\2019-11_PELTER_CTD\\SAEON_ABSS_CTP_20191121_PELTERP4_FV00_CTDPRO.cnv\n",
      "C:\\Data\\Ocean\\OceanAccounts AlgoaBay Data\\2019_PELTER_CTD\\2019-11_PELTER_CTD\\SAEON_ABSS_CTP_20191121_PELTERP5_FV00_CTDPRO.cnv\n"
     ]
    },
    {
     "name": "stderr",
     "output_type": "stream",
     "text": [
      "It was supposed to has 13 variables.\n",
      "It was supposed to has 13 variables.\n"
     ]
    },
    {
     "name": "stdout",
     "output_type": "stream",
     "text": [
      "C:\\Data\\Ocean\\OceanAccounts AlgoaBay Data\\2019_PELTER_CTD\\2019-11_PELTER_CTD\\SAEON_ABSS_CTP_20191121_PELTERP6_FV00_CTDPRO.cnv\n",
      "C:\\Data\\Ocean\\OceanAccounts AlgoaBay Data\\2019_PELTER_CTD\\2019-11_PELTER_CTD\\SAEON_ABSS_CTP_20191121_PELTERP7_FV00_CTDPRO.cnv\n"
     ]
    },
    {
     "name": "stderr",
     "output_type": "stream",
     "text": [
      "It was supposed to has 13 variables.\n",
      "It was supposed to has 13 variables.\n"
     ]
    },
    {
     "name": "stdout",
     "output_type": "stream",
     "text": [
      "C:\\Data\\Ocean\\OceanAccounts AlgoaBay Data\\2019_PELTER_CTD\\2019-11_PELTER_CTD\\SAEON_ABSS_CTP_20191121_PELTERP8_FV00_CTDPRO.cnv\n",
      "C:\\Data\\Ocean\\OceanAccounts AlgoaBay Data\\2019_PELTER_CTD\\2019-12_PELTER_CTD\\SAEON_ABSS_CTP_20191208_PELTERP1_FV00_CTDPRO.cnv\n"
     ]
    },
    {
     "name": "stderr",
     "output_type": "stream",
     "text": [
      "It was supposed to has 13 variables.\n",
      "It was supposed to has 13 variables.\n"
     ]
    },
    {
     "name": "stdout",
     "output_type": "stream",
     "text": [
      "C:\\Data\\Ocean\\OceanAccounts AlgoaBay Data\\2019_PELTER_CTD\\2019-12_PELTER_CTD\\SAEON_ABSS_CTP_20191208_PELTERP2_FV00_CTDPRO.cnv\n",
      "C:\\Data\\Ocean\\OceanAccounts AlgoaBay Data\\2019_PELTER_CTD\\2019-12_PELTER_CTD\\SAEON_ABSS_CTP_20191208_PELTERP3_FV00_CTDPRO.cnv\n"
     ]
    },
    {
     "name": "stderr",
     "output_type": "stream",
     "text": [
      "It was supposed to has 13 variables.\n"
     ]
    },
    {
     "name": "stdout",
     "output_type": "stream",
     "text": [
      "C:\\Data\\Ocean\\OceanAccounts AlgoaBay Data\\2019_PELTER_CTD\\2019-12_PELTER_CTD\\SAEON_ABSS_CTP_20191208_PELTERP4_FV00_CTDPRO.cnv\n"
     ]
    },
    {
     "name": "stderr",
     "output_type": "stream",
     "text": [
      "It was supposed to has 13 variables.\n",
      "It was supposed to has 13 variables.\n"
     ]
    },
    {
     "name": "stdout",
     "output_type": "stream",
     "text": [
      "C:\\Data\\Ocean\\OceanAccounts AlgoaBay Data\\2019_PELTER_CTD\\2019-12_PELTER_CTD\\SAEON_ABSS_CTP_20191208_PELTERP5_FV00_CTDPRO.cnv\n",
      "C:\\Data\\Ocean\\OceanAccounts AlgoaBay Data\\2019_PELTER_CTD\\2019-12_PELTER_CTD\\SAEON_ABSS_CTP_20191208_PELTERP6_FV00_CTDPRO.cnv\n"
     ]
    },
    {
     "name": "stderr",
     "output_type": "stream",
     "text": [
      "It was supposed to has 13 variables.\n"
     ]
    },
    {
     "name": "stdout",
     "output_type": "stream",
     "text": [
      "C:\\Data\\Ocean\\OceanAccounts AlgoaBay Data\\2019_PELTER_CTD\\2019-12_PELTER_CTD\\SAEON_ABSS_CTP_20191208_PELTERP7_FV00_CTDPRO.cnv\n"
     ]
    },
    {
     "name": "stderr",
     "output_type": "stream",
     "text": [
      "It was supposed to has 13 variables.\n",
      "It was supposed to has 13 variables.\n"
     ]
    },
    {
     "name": "stdout",
     "output_type": "stream",
     "text": [
      "C:\\Data\\Ocean\\OceanAccounts AlgoaBay Data\\2019_PELTER_CTD\\2019-12_PELTER_CTD\\SAEON_ABSS_CTP_20191208_PELTERP8_FV00_CTDPRO.cnv\n",
      "     Conductivity  Temperature   Depth  Salinity   Oxygen     pH  Chlorophyll  \\\n",
      "0         46918.0      18.8566   0.073   35.1322  12.2523  8.994       7.0314   \n",
      "1         47178.0      18.9858   0.084   35.2407   8.4489  9.026       6.8750   \n",
      "2         28538.0      19.0865   0.084   20.1253   7.2561  8.953       7.1031   \n",
      "3         23441.0      19.1848   0.104   16.1807   7.2337  8.917       7.0558   \n",
      "4         25197.0      19.0318   0.104   17.5768   7.5749  8.975       6.8116   \n",
      "..            ...          ...     ...       ...      ...    ...          ...   \n",
      "727       47764.0      19.4689  25.927   35.3091   4.7883  8.838       5.0469   \n",
      "728       47746.0      19.4768  25.983   35.2877   4.9364  8.840       5.1705   \n",
      "729       47753.0      19.4664  26.009   35.3022   4.8247  8.838       4.8867   \n",
      "730       47749.0      19.4664  26.056   35.2992   4.9230  8.836       4.7997   \n",
      "731       47746.0      19.4701  26.056   35.2933   4.8940  8.837       4.9157   \n",
      "\n",
      "     Turbidity  Bottles      Julian   Scan  Pressure  flag      time  \\\n",
      "0      49.4301      0.0   51.631285  761.0     0.073   0.0  190.0240   \n",
      "1      61.4969      0.0   51.629155   25.0     0.084   0.0    5.9920   \n",
      "2     294.0444      0.0   51.629132   17.0     0.085   0.0    4.0048   \n",
      "3     294.0352      0.0   51.629129   16.0     0.105   0.0    3.7456   \n",
      "4     228.1987      0.0   51.629135   18.0     0.105   0.0    4.2640   \n",
      "..         ...      ...         ...    ...       ...   ...       ...   \n",
      "727     1.8906      0.0  342.331534  319.0    26.115   0.0   79.5376   \n",
      "728     1.8723      0.0  342.331522  315.0    26.172   0.0   78.5008   \n",
      "729     1.8311      0.0  342.331531  318.0    26.197   0.0   79.2784   \n",
      "730     1.8402      0.0  342.331528  317.0    26.244   0.0   79.0192   \n",
      "731     1.8585      0.0  342.331525  316.0    26.244   0.0   78.7600   \n",
      "\n",
      "         date   Station depth_class    DecDegS    DecDegE  \n",
      "0    20180220  PELTERP2         0-2 -33.826240  25.754290  \n",
      "1    20180220  PELTERP2         0-2 -33.826240  25.754290  \n",
      "2    20180220  PELTERP2         0-2 -33.826240  25.754290  \n",
      "3    20180220  PELTERP2         0-2 -33.826240  25.754290  \n",
      "4    20180220  PELTERP2         0-2 -33.826240  25.754290  \n",
      "..        ...       ...         ...        ...        ...  \n",
      "727  20191208  PELTERP8       20-30 -34.034167  25.727778  \n",
      "728  20191208  PELTERP8       20-30 -34.034167  25.727778  \n",
      "729  20191208  PELTERP8       20-30 -34.034167  25.727778  \n",
      "730  20191208  PELTERP8       20-30 -34.034167  25.727778  \n",
      "731  20191208  PELTERP8       20-30 -34.034167  25.727778  \n",
      "\n",
      "[161949 rows x 19 columns]\n"
     ]
    }
   ],
   "source": [
    "format2_list = []\n",
    "for root, dirs, files in os.walk(r\"C:\\Data\\Ocean\\Algoa Bay Complete Dataset\\PELTER_CTD\"):\n",
    "    for file in files:\n",
    "        if file.endswith(\".cnv\"):\n",
    "            path = os.path.join(root, file)\n",
    "            print(path)\n",
    "            #get the date and station from the file path\n",
    "            date = file.split('_')[3]\n",
    "            Station = file.split('_')[4]\n",
    "            #open the file using pySeabird\n",
    "            profile = fCNV(path)\n",
    "            #get the variables from the CNV header\n",
    "            vars = profile.keys()\n",
    "            #create a list of the names you would like to rename the column headings to.\n",
    "            variables = ['Conductivity', 'Temperature', 'Depth', 'Salinity', 'Oxygen', 'pH', 'Chlorophyll', 'Turbidity', 'Bottles', 'Julian', 'Scan', 'Pressure', 'flag', 'time']\n",
    "            #build a dataframe from the .cnv files\n",
    "            list = []\n",
    "            for i in vars:\n",
    "                df = pd.DataFrame(data = profile[i])\n",
    "                list.append(df)\n",
    "            data = pd.concat(list, axis = 1)\n",
    "            data.columns = variables           \n",
    "            data['date'] = date\n",
    "            data['Station'] = Station\n",
    "            #remove observations where the depth is negative\n",
    "            data = data[data.Depth >= 0]\n",
    "            #group data into defined bins\n",
    "            cut_labels = ['0-2', '2-10', '10-20', '20-30','30-40','40-50','50-60','60-70', '70-80']\n",
    "            cut_bins = [0, 2, 10, 20, 30, 40, 50, 60, 70, 80]\n",
    "            depth_class = pd.cut(data['Depth'], bins=cut_bins, labels=cut_labels).rename('depth_class')\n",
    "            df=pd.concat([data,depth_class], axis=1).sort_values('Depth', ascending=True)\n",
    "            df=pd.merge(df,locations[['Station','DecDegS','DecDegE']], on = 'Station')\n",
    "            format2_list.append(df)\n",
    "format2_df= pd.concat(format2_list)\n",
    "print(format2_df)"
   ]
  },
  {
   "cell_type": "code",
   "execution_count": 4,
   "metadata": {},
   "outputs": [
    {
     "name": "stdout",
     "output_type": "stream",
     "text": [
      "C:\\Data\\Ocean\\Problem files\\big files\\SAEON_ABSS_CTP_20180911_PELTERP1_FV00_CTDPRO_processed.csv\n",
      "     Conductivity  Temperature   Depth  Salinity  Oxygen     pH  Chlorophyll  \\\n",
      "0         48903.0      21.1449   0.057   34.8541  4.7226  8.497       1.5831   \n",
      "1         48952.0      20.6460   0.058   35.3043  5.2387  8.861       2.9381   \n",
      "2         48951.0      20.6396   0.100   35.3095  5.4464  8.858       2.8946   \n",
      "3         48952.0      20.6306   0.114   35.3172  5.5011  8.857       2.9435   \n",
      "4         48957.0      20.9983   0.127   35.0173  4.5996  8.617       1.6396   \n",
      "..            ...          ...     ...       ...     ...    ...          ...   \n",
      "727       47764.0      19.4689  25.927   35.3091  4.7883  8.838       5.0469   \n",
      "728       47746.0      19.4768  25.983   35.2877  4.9364  8.840       5.1705   \n",
      "729       47753.0      19.4664  26.009   35.3022  4.8247  8.838       4.8867   \n",
      "730       47749.0      19.4664  26.056   35.2992  4.9230  8.836       4.7997   \n",
      "731       47746.0      19.4701  26.056   35.2933  4.8940  8.837       4.9157   \n",
      "\n",
      "     Turbidity  Bottles      Julian   Scan  Pressure  flag      time  \\\n",
      "0       9.4621      0.0  342.330668   20.0     0.057   0.0    4.7152   \n",
      "1      59.3957      0.0  342.332784  751.0     0.059   0.0  187.5376   \n",
      "2      76.5438      0.0  342.332781  750.0     0.101   0.0  187.2784   \n",
      "3      51.4260      0.0  342.332778  749.0     0.115   0.0  187.0192   \n",
      "4       7.5990      0.0  342.330671   21.0     0.128   0.0    4.9744   \n",
      "..         ...      ...         ...    ...       ...   ...       ...   \n",
      "727     1.8906      0.0  342.331534  319.0    26.115   0.0   79.5376   \n",
      "728     1.8723      0.0  342.331522  315.0    26.172   0.0   78.5008   \n",
      "729     1.8311      0.0  342.331531  318.0    26.197   0.0   79.2784   \n",
      "730     1.8402      0.0  342.331528  317.0    26.244   0.0   79.0192   \n",
      "731     1.8585      0.0  342.331525  316.0    26.244   0.0   78.7600   \n",
      "\n",
      "         date   Station depth_class    DecDegS    DecDegE  \n",
      "0    20180911  PELTERP1         0-2 -33.896167  25.702278  \n",
      "1    20180911  PELTERP1         0-2 -33.896167  25.702278  \n",
      "2    20180911  PELTERP1         0-2 -33.896167  25.702278  \n",
      "3    20180911  PELTERP1         0-2 -33.896167  25.702278  \n",
      "4    20180911  PELTERP1         0-2 -33.896167  25.702278  \n",
      "..        ...       ...         ...        ...        ...  \n",
      "727  20180911  PELTERP1       20-30 -33.896167  25.702278  \n",
      "728  20180911  PELTERP1       20-30 -33.896167  25.702278  \n",
      "729  20180911  PELTERP1       20-30 -33.896167  25.702278  \n",
      "730  20180911  PELTERP1       20-30 -33.896167  25.702278  \n",
      "731  20180911  PELTERP1       20-30 -33.896167  25.702278  \n",
      "\n",
      "[732 rows x 19 columns]\n"
     ]
    }
   ],
   "source": [
    "format3_list = []\n",
    "for root, dirs, files in os.walk(r\"C:\\Data\\Ocean\\Problem files\\big files\"):\n",
    "    for file in files:\n",
    "        if file.endswith(\".csv\"):\n",
    "            path = os.path.join(root, file)\n",
    "            print(path)\n",
    "            #get the date and station from the file path\n",
    "            date = file.split('_')[3]\n",
    "            Station = file.split('_')[4]\n",
    "            df = pd.read_csv(path)\n",
    "            data['date'] = date\n",
    "            data['Station'] = Station\n",
    "            #remove observations where the depth is negative\n",
    "            data = data[data.Depth >= 0]\n",
    "            #group data into defined bins\n",
    "            cut_labels = ['0-2', '2-10', '10-20', '20-30','30-40','40-50','50-60','60-70', '70-80']\n",
    "            cut_bins = [0, 2, 10, 20, 30, 40, 50, 60, 70, 80]\n",
    "            depth_class = pd.cut(data['Depth'], bins=cut_bins, labels=cut_labels).rename('depth_class')\n",
    "            df=pd.concat([data,depth_class], axis=1).sort_values('Depth', ascending=True)\n",
    "            df=pd.merge(df,locations[['Station','DecDegS','DecDegE']], on = 'Station')\n",
    "            format3_list.append(df)\n",
    "format3_df= pd.concat(format3_list)\n",
    "print(format3_df)"
   ]
  },
  {
   "cell_type": "code",
   "execution_count": 5,
   "metadata": {},
   "outputs": [],
   "source": [
    "df_list = [format1_df, format2_df, format3_df]\n",
    "df = pd.concat(df_list)"
   ]
  },
  {
   "cell_type": "code",
   "execution_count": 6,
   "metadata": {},
   "outputs": [
    {
     "name": "stdout",
     "output_type": "stream",
     "text": [
      "['2018-02-20', '2018-03-26', '2018-04-17', '2018-05-24', '2018-06-21', '2018-07-05', '2018-08-29', '2018-09-11', '2018-10-25', '2018-11-15', '2018-12-09', '2019-02-05', '2019-02-25', '2019-03-19', '2019-05-10', '2019-06-14', '2019-07-15', '2019-08-09', '2019-09-10', '2019-10-04', '2019-11-21', '2019-12-08']\n"
     ]
    },
    {
     "ename": "OSError",
     "evalue": "Address 'http://127.0.0.1:8050' already in use.\n    Try passing a different port to run_server.",
     "output_type": "error",
     "traceback": [
      "\u001b[1;31m---------------------------------------------------------------------------\u001b[0m",
      "\u001b[1;31mOSError\u001b[0m                                   Traceback (most recent call last)",
      "\u001b[1;32m<ipython-input-6-511a46b471d0>\u001b[0m in \u001b[0;36m<module>\u001b[1;34m\u001b[0m\n\u001b[0;32m     96\u001b[0m \u001b[1;33m\u001b[0m\u001b[0m\n\u001b[0;32m     97\u001b[0m \u001b[1;31m# Run app and display result inline in the notebook\u001b[0m\u001b[1;33m\u001b[0m\u001b[1;33m\u001b[0m\u001b[1;33m\u001b[0m\u001b[0m\n\u001b[1;32m---> 98\u001b[1;33m \u001b[0mapp\u001b[0m\u001b[1;33m.\u001b[0m\u001b[0mrun_server\u001b[0m\u001b[1;33m(\u001b[0m\u001b[0mmode\u001b[0m\u001b[1;33m=\u001b[0m\u001b[1;34m'inline'\u001b[0m\u001b[1;33m)\u001b[0m\u001b[1;33m\u001b[0m\u001b[1;33m\u001b[0m\u001b[0m\n\u001b[0m",
      "\u001b[1;32m~\\AppData\\Local\\Continuum\\anaconda3\\envs\\arc_clone\\lib\\site-packages\\jupyter_dash\\jupyter_app.py\u001b[0m in \u001b[0;36mrun_server\u001b[1;34m(self, mode, width, height, inline_exceptions, **kwargs)\u001b[0m\n\u001b[0;32m    317\u001b[0m                 )\n\u001b[0;32m    318\u001b[0m \u001b[1;33m\u001b[0m\u001b[0m\n\u001b[1;32m--> 319\u001b[1;33m         \u001b[0mwait_for_app\u001b[0m\u001b[1;33m(\u001b[0m\u001b[1;33m)\u001b[0m\u001b[1;33m\u001b[0m\u001b[1;33m\u001b[0m\u001b[0m\n\u001b[0m\u001b[0;32m    320\u001b[0m \u001b[1;33m\u001b[0m\u001b[0m\n\u001b[0;32m    321\u001b[0m         \u001b[1;32mif\u001b[0m \u001b[0mJupyterDash\u001b[0m\u001b[1;33m.\u001b[0m\u001b[0m_in_colab\u001b[0m\u001b[1;33m:\u001b[0m\u001b[1;33m\u001b[0m\u001b[1;33m\u001b[0m\u001b[0m\n",
      "\u001b[1;32m~\\AppData\\Local\\Continuum\\anaconda3\\envs\\arc_clone\\lib\\site-packages\\retrying.py\u001b[0m in \u001b[0;36mwrapped_f\u001b[1;34m(*args, **kw)\u001b[0m\n\u001b[0;32m     47\u001b[0m             \u001b[1;33m@\u001b[0m\u001b[0msix\u001b[0m\u001b[1;33m.\u001b[0m\u001b[0mwraps\u001b[0m\u001b[1;33m(\u001b[0m\u001b[0mf\u001b[0m\u001b[1;33m)\u001b[0m\u001b[1;33m\u001b[0m\u001b[1;33m\u001b[0m\u001b[0m\n\u001b[0;32m     48\u001b[0m             \u001b[1;32mdef\u001b[0m \u001b[0mwrapped_f\u001b[0m\u001b[1;33m(\u001b[0m\u001b[1;33m*\u001b[0m\u001b[0margs\u001b[0m\u001b[1;33m,\u001b[0m \u001b[1;33m**\u001b[0m\u001b[0mkw\u001b[0m\u001b[1;33m)\u001b[0m\u001b[1;33m:\u001b[0m\u001b[1;33m\u001b[0m\u001b[1;33m\u001b[0m\u001b[0m\n\u001b[1;32m---> 49\u001b[1;33m                 \u001b[1;32mreturn\u001b[0m \u001b[0mRetrying\u001b[0m\u001b[1;33m(\u001b[0m\u001b[1;33m*\u001b[0m\u001b[0mdargs\u001b[0m\u001b[1;33m,\u001b[0m \u001b[1;33m**\u001b[0m\u001b[0mdkw\u001b[0m\u001b[1;33m)\u001b[0m\u001b[1;33m.\u001b[0m\u001b[0mcall\u001b[0m\u001b[1;33m(\u001b[0m\u001b[0mf\u001b[0m\u001b[1;33m,\u001b[0m \u001b[1;33m*\u001b[0m\u001b[0margs\u001b[0m\u001b[1;33m,\u001b[0m \u001b[1;33m**\u001b[0m\u001b[0mkw\u001b[0m\u001b[1;33m)\u001b[0m\u001b[1;33m\u001b[0m\u001b[1;33m\u001b[0m\u001b[0m\n\u001b[0m\u001b[0;32m     50\u001b[0m \u001b[1;33m\u001b[0m\u001b[0m\n\u001b[0;32m     51\u001b[0m             \u001b[1;32mreturn\u001b[0m \u001b[0mwrapped_f\u001b[0m\u001b[1;33m\u001b[0m\u001b[1;33m\u001b[0m\u001b[0m\n",
      "\u001b[1;32m~\\AppData\\Local\\Continuum\\anaconda3\\envs\\arc_clone\\lib\\site-packages\\retrying.py\u001b[0m in \u001b[0;36mcall\u001b[1;34m(self, fn, *args, **kwargs)\u001b[0m\n\u001b[0;32m    210\u001b[0m                 \u001b[1;32mif\u001b[0m \u001b[1;32mnot\u001b[0m \u001b[0mself\u001b[0m\u001b[1;33m.\u001b[0m\u001b[0m_wrap_exception\u001b[0m \u001b[1;32mand\u001b[0m \u001b[0mattempt\u001b[0m\u001b[1;33m.\u001b[0m\u001b[0mhas_exception\u001b[0m\u001b[1;33m:\u001b[0m\u001b[1;33m\u001b[0m\u001b[1;33m\u001b[0m\u001b[0m\n\u001b[0;32m    211\u001b[0m                     \u001b[1;31m# get() on an attempt with an exception should cause it to be raised, but raise just in case\u001b[0m\u001b[1;33m\u001b[0m\u001b[1;33m\u001b[0m\u001b[1;33m\u001b[0m\u001b[0m\n\u001b[1;32m--> 212\u001b[1;33m                     \u001b[1;32mraise\u001b[0m \u001b[0mattempt\u001b[0m\u001b[1;33m.\u001b[0m\u001b[0mget\u001b[0m\u001b[1;33m(\u001b[0m\u001b[1;33m)\u001b[0m\u001b[1;33m\u001b[0m\u001b[1;33m\u001b[0m\u001b[0m\n\u001b[0m\u001b[0;32m    213\u001b[0m                 \u001b[1;32melse\u001b[0m\u001b[1;33m:\u001b[0m\u001b[1;33m\u001b[0m\u001b[1;33m\u001b[0m\u001b[0m\n\u001b[0;32m    214\u001b[0m                     \u001b[1;32mraise\u001b[0m \u001b[0mRetryError\u001b[0m\u001b[1;33m(\u001b[0m\u001b[0mattempt\u001b[0m\u001b[1;33m)\u001b[0m\u001b[1;33m\u001b[0m\u001b[1;33m\u001b[0m\u001b[0m\n",
      "\u001b[1;32m~\\AppData\\Local\\Continuum\\anaconda3\\envs\\arc_clone\\lib\\site-packages\\retrying.py\u001b[0m in \u001b[0;36mget\u001b[1;34m(self, wrap_exception)\u001b[0m\n\u001b[0;32m    245\u001b[0m                 \u001b[1;32mraise\u001b[0m \u001b[0mRetryError\u001b[0m\u001b[1;33m(\u001b[0m\u001b[0mself\u001b[0m\u001b[1;33m)\u001b[0m\u001b[1;33m\u001b[0m\u001b[1;33m\u001b[0m\u001b[0m\n\u001b[0;32m    246\u001b[0m             \u001b[1;32melse\u001b[0m\u001b[1;33m:\u001b[0m\u001b[1;33m\u001b[0m\u001b[1;33m\u001b[0m\u001b[0m\n\u001b[1;32m--> 247\u001b[1;33m                 \u001b[0msix\u001b[0m\u001b[1;33m.\u001b[0m\u001b[0mreraise\u001b[0m\u001b[1;33m(\u001b[0m\u001b[0mself\u001b[0m\u001b[1;33m.\u001b[0m\u001b[0mvalue\u001b[0m\u001b[1;33m[\u001b[0m\u001b[1;36m0\u001b[0m\u001b[1;33m]\u001b[0m\u001b[1;33m,\u001b[0m \u001b[0mself\u001b[0m\u001b[1;33m.\u001b[0m\u001b[0mvalue\u001b[0m\u001b[1;33m[\u001b[0m\u001b[1;36m1\u001b[0m\u001b[1;33m]\u001b[0m\u001b[1;33m,\u001b[0m \u001b[0mself\u001b[0m\u001b[1;33m.\u001b[0m\u001b[0mvalue\u001b[0m\u001b[1;33m[\u001b[0m\u001b[1;36m2\u001b[0m\u001b[1;33m]\u001b[0m\u001b[1;33m)\u001b[0m\u001b[1;33m\u001b[0m\u001b[1;33m\u001b[0m\u001b[0m\n\u001b[0m\u001b[0;32m    248\u001b[0m         \u001b[1;32melse\u001b[0m\u001b[1;33m:\u001b[0m\u001b[1;33m\u001b[0m\u001b[1;33m\u001b[0m\u001b[0m\n\u001b[0;32m    249\u001b[0m             \u001b[1;32mreturn\u001b[0m \u001b[0mself\u001b[0m\u001b[1;33m.\u001b[0m\u001b[0mvalue\u001b[0m\u001b[1;33m\u001b[0m\u001b[1;33m\u001b[0m\u001b[0m\n",
      "\u001b[1;32m~\\AppData\\Local\\Continuum\\anaconda3\\envs\\arc_clone\\lib\\site-packages\\six.py\u001b[0m in \u001b[0;36mreraise\u001b[1;34m(tp, value, tb)\u001b[0m\n\u001b[0;32m    701\u001b[0m             \u001b[1;32mif\u001b[0m \u001b[0mvalue\u001b[0m\u001b[1;33m.\u001b[0m\u001b[0m__traceback__\u001b[0m \u001b[1;32mis\u001b[0m \u001b[1;32mnot\u001b[0m \u001b[0mtb\u001b[0m\u001b[1;33m:\u001b[0m\u001b[1;33m\u001b[0m\u001b[1;33m\u001b[0m\u001b[0m\n\u001b[0;32m    702\u001b[0m                 \u001b[1;32mraise\u001b[0m \u001b[0mvalue\u001b[0m\u001b[1;33m.\u001b[0m\u001b[0mwith_traceback\u001b[0m\u001b[1;33m(\u001b[0m\u001b[0mtb\u001b[0m\u001b[1;33m)\u001b[0m\u001b[1;33m\u001b[0m\u001b[1;33m\u001b[0m\u001b[0m\n\u001b[1;32m--> 703\u001b[1;33m             \u001b[1;32mraise\u001b[0m \u001b[0mvalue\u001b[0m\u001b[1;33m\u001b[0m\u001b[1;33m\u001b[0m\u001b[0m\n\u001b[0m\u001b[0;32m    704\u001b[0m         \u001b[1;32mfinally\u001b[0m\u001b[1;33m:\u001b[0m\u001b[1;33m\u001b[0m\u001b[1;33m\u001b[0m\u001b[0m\n\u001b[0;32m    705\u001b[0m             \u001b[0mvalue\u001b[0m \u001b[1;33m=\u001b[0m \u001b[1;32mNone\u001b[0m\u001b[1;33m\u001b[0m\u001b[1;33m\u001b[0m\u001b[0m\n",
      "\u001b[1;32m~\\AppData\\Local\\Continuum\\anaconda3\\envs\\arc_clone\\lib\\site-packages\\retrying.py\u001b[0m in \u001b[0;36mcall\u001b[1;34m(self, fn, *args, **kwargs)\u001b[0m\n\u001b[0;32m    198\u001b[0m         \u001b[1;32mwhile\u001b[0m \u001b[1;32mTrue\u001b[0m\u001b[1;33m:\u001b[0m\u001b[1;33m\u001b[0m\u001b[1;33m\u001b[0m\u001b[0m\n\u001b[0;32m    199\u001b[0m             \u001b[1;32mtry\u001b[0m\u001b[1;33m:\u001b[0m\u001b[1;33m\u001b[0m\u001b[1;33m\u001b[0m\u001b[0m\n\u001b[1;32m--> 200\u001b[1;33m                 \u001b[0mattempt\u001b[0m \u001b[1;33m=\u001b[0m \u001b[0mAttempt\u001b[0m\u001b[1;33m(\u001b[0m\u001b[0mfn\u001b[0m\u001b[1;33m(\u001b[0m\u001b[1;33m*\u001b[0m\u001b[0margs\u001b[0m\u001b[1;33m,\u001b[0m \u001b[1;33m**\u001b[0m\u001b[0mkwargs\u001b[0m\u001b[1;33m)\u001b[0m\u001b[1;33m,\u001b[0m \u001b[0mattempt_number\u001b[0m\u001b[1;33m,\u001b[0m \u001b[1;32mFalse\u001b[0m\u001b[1;33m)\u001b[0m\u001b[1;33m\u001b[0m\u001b[1;33m\u001b[0m\u001b[0m\n\u001b[0m\u001b[0;32m    201\u001b[0m             \u001b[1;32mexcept\u001b[0m\u001b[1;33m:\u001b[0m\u001b[1;33m\u001b[0m\u001b[1;33m\u001b[0m\u001b[0m\n\u001b[0;32m    202\u001b[0m                 \u001b[0mtb\u001b[0m \u001b[1;33m=\u001b[0m \u001b[0msys\u001b[0m\u001b[1;33m.\u001b[0m\u001b[0mexc_info\u001b[0m\u001b[1;33m(\u001b[0m\u001b[1;33m)\u001b[0m\u001b[1;33m\u001b[0m\u001b[1;33m\u001b[0m\u001b[0m\n",
      "\u001b[1;32m~\\AppData\\Local\\Continuum\\anaconda3\\envs\\arc_clone\\lib\\site-packages\\jupyter_dash\\jupyter_app.py\u001b[0m in \u001b[0;36mwait_for_app\u001b[1;34m()\u001b[0m\n\u001b[0;32m    313\u001b[0m                     \u001b[1;34m\"Address '{url}' already in use.\\n\"\u001b[0m\u001b[1;33m\u001b[0m\u001b[1;33m\u001b[0m\u001b[0m\n\u001b[0;32m    314\u001b[0m                     \"    Try passing a different port to run_server.\".format(\n\u001b[1;32m--> 315\u001b[1;33m                         \u001b[0murl\u001b[0m\u001b[1;33m=\u001b[0m\u001b[0murl\u001b[0m\u001b[1;33m\u001b[0m\u001b[1;33m\u001b[0m\u001b[0m\n\u001b[0m\u001b[0;32m    316\u001b[0m                     )\n\u001b[0;32m    317\u001b[0m                 )\n",
      "\u001b[1;31mOSError\u001b[0m: Address 'http://127.0.0.1:8050' already in use.\n    Try passing a different port to run_server."
     ]
    }
   ],
   "source": [
    "#add some additional packages\n",
    "from jupyter_dash import JupyterDash\n",
    "import dash_core_components as dcc\n",
    "import dash_html_components as html\n",
    "from dash.dependencies import Input, Output\n",
    "import pandas as pd\n",
    "import plotly.express as px\n",
    "\n",
    "#list the variables we want to display\n",
    "sensor_list = ['Conductivity', 'Temperature', 'Salinity', 'Oxygen', 'pH', 'Chlorophyll', 'Turbidity', 'Pressure']\n",
    "\n",
    "#Get a list of the Stations in alphabetical order\n",
    "df = df.sort_values(by=['Station'])\n",
    "stations = df['Station'].unique()\n",
    "\n",
    "#Get a list of the dates we want to show\n",
    "df['date'] = df['date'].replace('201900809', '20190809')\n",
    "df = df.sort_values(by = 'date')\n",
    "df['date'] = pd.to_datetime(df.date, format='%Y%m%d')\n",
    "dates = df['date'].unique()\n",
    "date_array = [str(i) for i in dates]\n",
    "dates = [i[:10] for i in date_array]\n",
    "print(dates)\n",
    "date_mark = {i : dates[i] for i in range(0, 22)}\n",
    "\n",
    "app = JupyterDash(__name__)\n",
    "app.layout = html.Div([\n",
    "#Heading\n",
    "    html.H1(\"Hobo Data Visualisation App\"),\n",
    "\n",
    "#Subheading             \n",
    "    html.H2(\"Dynamic Visualisation of variables\"),\n",
    "\n",
    "# Dropdown for the Station to chart\n",
    "    html.Label([                                        \n",
    "        \"Station\",                                     \n",
    "        dcc.Dropdown(                                   \n",
    "            id='stat-dropdown', clearable=False,         \n",
    "            value='PELTERP1', options=[              \n",
    "                {'label': st, 'value': st}\n",
    "                for st in stations                    \n",
    "            ])\n",
    "    ]),\n",
    "\n",
    "#timeslider to analyse time series\n",
    "    html.Label([                                        \n",
    "        \"Date\",\n",
    "        dcc.RangeSlider(\n",
    "            id = 'slider',\n",
    "            marks = date_mark,\n",
    "            min = 0,\n",
    "            max = 22,\n",
    "            value = [0,2])\n",
    "    ]),\n",
    "\n",
    "# Chart\n",
    "    dcc.Graph(id='graph'),\n",
    "\n",
    "# Dropdown for the variables to chart                              \n",
    "    html.Label([                                        \n",
    "        \"Variable\",                                     \n",
    "        dcc.Dropdown(                                   \n",
    "            id='var-dropdown', clearable=False,         \n",
    "            value='Temperature', options=[              \n",
    "                {'label': s, 'value': s}\n",
    "                for s in sensor_list                    \n",
    "            ])\n",
    "    ]),\n",
    "\n",
    "])\n",
    "\n",
    "# Define callback to update graph\n",
    "@app.callback(\n",
    "    Output('graph', 'figure'),                          \n",
    "     [Input(\"var-dropdown\", \"value\"), \n",
    "     Input(\"stat-dropdown\", \"value\"),\n",
    "     Input(\"slider\", \"value\") \n",
    "      ])\n",
    "\n",
    "#define the function to update the graph based on the user selection\n",
    "def update_figure(input1, input2, input3):\n",
    "  #Filter the Data by station\n",
    "  data = df[(df.date > dates[input3[0]]) & (df.date < dates[input3[1]])]\n",
    "  #data = df.loc[df['Station'] ==input2]\n",
    "  #update the plot\n",
    "  fig = px.box(\n",
    "        data.loc[data['Station'] ==input2], \n",
    "         x=\"depth_class\", \n",
    "         y=input1,\n",
    "         color = \"depth_class\",\n",
    "         #color_continuous_scale= \"Plasma\",\n",
    "         title= input2 \n",
    "                                                                             \n",
    "  )\n",
    "  return fig\n",
    "    \n",
    "# Run app and display result inline in the notebook\n",
    "app.run_server(mode='inline')"
   ]
  },
  {
   "cell_type": "code",
   "execution_count": null,
   "metadata": {},
   "outputs": [],
   "source": []
  }
 ],
 "metadata": {
  "kernelspec": {
   "display_name": "Python 3 (ipykernel)",
   "language": "python",
   "name": "python3"
  },
  "language_info": {
   "codemirror_mode": {
    "name": "ipython",
    "version": 3
   },
   "file_extension": ".py",
   "mimetype": "text/x-python",
   "name": "python",
   "nbconvert_exporter": "python",
   "pygments_lexer": "ipython3",
   "version": "3.7.10"
  }
 },
 "nbformat": 4,
 "nbformat_minor": 2
}
